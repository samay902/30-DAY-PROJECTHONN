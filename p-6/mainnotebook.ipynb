{
 "cells": [
  {
   "cell_type": "code",
   "metadata": {},
   "source": [
    "import numpy as np\n",
    "import pandas as pd\n",
    "import tarfile\n",
    "import urllib.request\n",
    "from pathlib import Path\n",
    "\n",
    "\n",
    "def load_housing_data():\n",
    "    tarball_path = Path(\"numpyex/housing.tgz\")\n",
    "    if not tarball_path.is_file():\n",
    "        Path(\"numpyex\").mkdir(parents=True, exist_ok=True)\n",
    "        url = \"https://github.com/ageron/data/raw/main/housing.tgz\"\n",
    "        urllib.request.urlretrieve(url, tarball_path)\n",
    "        with tarfile.open(tarball_path) as housing_tarball:\n",
    "            housing_tarball.extractall(path=\"numpyex\")\n",
    "    return pd.read_csv(Path(\"numpyex/housing/housing.csv\"))\n",
    "house=load_housing_data()\n",
    "house.head()\n",
    "\n",
    "\n"
   ],
   "outputs": [],
   "execution_count": null
  },
  {
   "metadata": {},
   "cell_type": "code",
   "outputs": [],
   "execution_count": null,
   "source": ""
  },
  {
   "cell_type": "code",
   "metadata": {},
   "source": [
    "house.info()"
   ],
   "outputs": [],
   "execution_count": null
  },
  {
   "cell_type": "code",
   "metadata": {},
   "source": [
    "\n",
    "import matplotlib.pyplot as plt\n",
    "plt.rc('font', size=14)\n",
    "plt.rc('axes', labelsize=14, titlesize=14)\n",
    "plt.rc('legend', fontsize=14)\n",
    "plt.rc('xtick', labelsize=10)\n",
    "plt.rc('ytick', labelsize=10)\n",
    "house.hist(bins=46,figsize=(12,10))\n",
    "plt.show()\n",
    "\n",
    "\n",
    "\n",
    "\n",
    "\n",
    "\n",
    "\n",
    "\n",
    "\n",
    "\n",
    "    \n"
   ],
   "outputs": [],
   "execution_count": null
  },
  {
   "cell_type": "code",
   "metadata": {},
   "source": [
    "\n",
    "from sklearn.model_selection import train_test_split\n",
    "train, test = train_test_split(house, test_size=0.2)\n",
    "train.head()"
   ],
   "outputs": [],
   "execution_count": null
  },
  {
   "metadata": {},
   "cell_type": "markdown",
   "source": ""
  },
  {
   "cell_type": "code",
   "metadata": {},
   "source": "house[\"med_inc_cat\"] = pd.cut(house[\"median_income\"], bins=[0, 1, 3, 4, 6, np.inf], labels=[1, 2, 3, 4, 5])",
   "outputs": [],
   "execution_count": null
  },
  {
   "metadata": {},
   "cell_type": "code",
   "source": [
    "house[\"med_inc_cat\"].value_counts().sort_index().plot.bar(rot=0, figsize=(12,10),grid=True)\n",
    "plt.title(\"Median Income\")\n",
    "plt.xlabel(\"income\")\n",
    "plt.ylabel(\"count\")\n",
    "plt.show()"
   ],
   "outputs": [],
   "execution_count": null
  },
  {
   "metadata": {},
   "cell_type": "code",
   "source": [
    "from sklearn.model_selection import StratifiedShuffleSplit\n",
    "strat_train_set, strat_test_set = train_test_split(\n",
    "house, test_size=0.2, stratify=house[\"med_inc_cat\"], random_state=42)\n",
    "strat_test_set[\"med_inc_cat\"].value_counts() / len(strat_test_set)\n",
    "\n",
    "    \n",
    "    \n",
    "    \n",
    "    \n",
    "    \n",
    "    \n",
    "    \n",
    "    \n"
   ],
   "outputs": [],
   "execution_count": null
  },
  {
   "metadata": {},
   "cell_type": "code",
   "source": "",
   "outputs": [],
   "execution_count": null
  },
  {
   "metadata": {},
   "cell_type": "code",
   "source": "strat_train_set.copy()\n",
   "outputs": [],
   "execution_count": null
  },
  {
   "metadata": {},
   "cell_type": "code",
   "source": [
    "house.plot(kind=\"scatter\",x=\"longitude\",y=\"latitude\",grid=\"True\",alpha=0.2)\n",
    "plt.show()"
   ],
   "outputs": [],
   "execution_count": null
  },
  {
   "metadata": {},
   "cell_type": "code",
   "source": [
    "house.plot(kind=\"scatter\",x=\"longitude\",y=\"latitude\",grid=\"True\",s=(house[\"population\"])/1000,c=house[\"median_house_value\"],cmap=\"jet\",colorbar=True,legend=True\n",
    ",figsize=(12,10))\n",
    "plt.show()"
   ],
   "outputs": [],
   "execution_count": null
  },
  {
   "metadata": {},
   "cell_type": "code",
   "source": "house[\"med_inc_c\"] = pd.cut(house[\"median_income\"], bins=[0, 1, 3, 4, 6, np.inf], labels=[1, 2, 3, 4, 5])\n",
   "outputs": [],
   "execution_count": null
  },
  {
   "metadata": {},
   "cell_type": "code",
   "source": [
    "from pandas.plotting import scatter_matrix\n",
    "attributes=[\"median_house_value\",\"population\",\"median_income\",\"total_rooms\",\"latitude\",\"longitude\"]\n",
    "scatter_matrix(house[attributes],figsize=(12,10))\n",
    "                                               \n",
    "\n"
   ],
   "outputs": [],
   "execution_count": null
  },
  {
   "metadata": {},
   "cell_type": "code",
   "source": [
    "house.plot(kind=\"scatter\",x=\"median_income\",y=\"median_house_value\",alpha=0.2,grid=True)\n",
    "plt.show()"
   ],
   "outputs": [],
   "execution_count": null
  },
  {
   "metadata": {},
   "cell_type": "code",
   "source": [
    "house.plot(kind=\"scatter\",x=\"housing_median_age\",y=\"median_house_value\",alpha=0.2,grid=True)\n",
    "plt.show()"
   ],
   "outputs": [],
   "execution_count": null
  },
  {
   "metadata": {},
   "cell_type": "code",
   "source": [
    "house.plot(kind=\"scatter\",x=\"housing_median_age\",y=\"population\",alpha=0.2,grid=True)\n",
    "plt.show()"
   ],
   "outputs": [],
   "execution_count": null
  },
  {
   "metadata": {},
   "cell_type": "code",
   "source": [
    "housing_labels=strat_train_set[\"median_house_value\"].copy()#separating the labels and the predictors\n",
    "\n",
    "\n",
    "\n",
    "\n",
    "\n",
    "\n",
    "\n",
    "\n",
    "\n",
    "\n",
    "\n",
    "\n",
    "\n",
    "\n",
    "\n"
   ],
   "outputs": [],
   "execution_count": null
  },
  {
   "metadata": {},
   "cell_type": "code",
   "source": [
    "from sklearn.impute import SimpleImputer\n",
    "imputer=SimpleImputer( strategy='median')\n",
    "housing_num=house.select_dtypes(include=[np.number])\n",
    "imputer.fit(housing_num)\n",
    "imputer.statistics_\n",
    "\n",
    "\n",
    "\n"
   ],
   "outputs": [],
   "execution_count": null
  },
  {
   "metadata": {},
   "cell_type": "code",
   "source": "",
   "outputs": [],
   "execution_count": null
  },
  {
   "metadata": {},
   "cell_type": "code",
   "source": [
    "X=imputer.transform(housing_num)\n",
    "\n"
   ],
   "outputs": [],
   "execution_count": null
  },
  {
   "metadata": {},
   "cell_type": "code",
   "source": [
    "#as imputing changes the dataset into a array so it needs to be again changed into a data frame with features and labels\n",
    "house_df=pd.DataFrame(X,columns=housing_num.columns,index=housing_num.index)\n",
    "\n"
   ],
   "outputs": [],
   "execution_count": null
  },
  {
   "metadata": {},
   "cell_type": "code",
   "source": [
    "housing_head=house[[\"ocean_proximity\"]]\n",
    "housing_head.head(10)\n",
    "from sklearn.preprocessing import OrdinalEncoder\n",
    "encoder=OrdinalEncoder()\n",
    "encoded_op=encoder.fit_transform(housing_head)\n",
    "print(encoder.categories_)"
   ],
   "outputs": [],
   "execution_count": null
  },
  {
   "metadata": {},
   "cell_type": "code",
   "source": [
    "from sklearn.preprocessing import OneHotEncoder\n",
    "encoder_oh=OneHotEncoder()\n",
    "encoded_oh=encoder_oh.fit_transform(housing_head)\n",
    "print(encoded_oh.toarray())\n"
   ],
   "outputs": [],
   "execution_count": null
  },
  {
   "metadata": {},
   "cell_type": "code",
   "source": [
    "df_test=pd.DataFrame({\"ocean_proximity\" : [\"INLAND\",\"NEAR BAY\"]} )\n",
    "print(pd.get_dummies(df_test))"
   ],
   "outputs": [],
   "execution_count": null
  },
  {
   "metadata": {},
   "cell_type": "code",
   "source": [
    "df_unknown_test=pd.DataFrame({\"ocean_proximity\" : [\"ISLAND\",\"NEAR OCEAN\"]} )\n",
    "print(pd.get_dummies(df_unknown_test))"
   ],
   "outputs": [],
   "execution_count": null
  },
  {
   "metadata": {},
   "cell_type": "code",
   "source": [
    "from sklearn.preprocessing import OneHotEncoder\n",
    "encoder=OneHotEncoder()\n",
    "encoder.handle_unknown=\"ignore\"\n",
    "\n",
    "encoded_oh=encoder.fit_transform(df_unknown_test)\n",
    "print(encoded_oh.toarray())\n",
    "\n",
    "\n"
   ],
   "outputs": [],
   "execution_count": null
  },
  {
   "metadata": {},
   "cell_type": "code",
   "source": [
    "print(encoder.feature_names_in_)\n",
    "print(encoder.get_feature_names_out())\n",
    "df_output=pd.DataFrame(encoder.transform(df_unknown_test),columns=encoder.get_feature_names_out(),index=df_unknown_test.index)"
   ],
   "outputs": [],
   "execution_count": null
  },
  {
   "metadata": {},
   "cell_type": "code",
   "source": [
    "from sklearn.preprocessing import MinMaxScaler\n",
    "scaler=MinMaxScaler(feature_range=(-1,1))\n",
    "housing_num_scaled=scaler.fit_transform(housing_num)\n"
   ],
   "outputs": [],
   "execution_count": null
  },
  {
   "metadata": {},
   "cell_type": "code",
   "source": [
    "from sklearn.preprocessing import StandardScaler\n",
    "scaler=StandardScaler()\n",
    "housing_num_scaled_st=scaler.fit_transform(housing_num)"
   ],
   "outputs": [],
   "execution_count": null
  },
  {
   "metadata": {},
   "cell_type": "code",
   "source": [
    "from sklearn.metrics.pairwise import rbf_kernel\n",
    "age_simil_35=rbf_kernel(house[\"median_house_age\"],[35],gamma=0.1)\n",
    "\n"
   ],
   "outputs": [],
   "execution_count": null
  },
  {
   "metadata": {},
   "cell_type": "code",
   "source": [
    "from sklearn.linear_model import LinearRegression\n",
    "from sklearn.preprocessing import StandardScaler\n",
    "target_scaler=StandardScaler()\n",
    "scaled=target_scaler.fit_transform(housing_labels.to_frame())\n",
    "\n",
    "model=LinearRegression()\n",
    "model.fit(house[\"median_income\"],scaled)\n",
    "new=house[[\"median_income\"]].iloc[:5]\n",
    "prediction=model.predict(new)\n",
    "inverse=target_scaler.inverse_transform(prediction)\n",
    "\n",
    "\n",
    "\n",
    "\n",
    "\n"
   ],
   "outputs": [],
   "execution_count": null
  },
  {
   "metadata": {},
   "cell_type": "code",
   "source": [
    "from sklearn.compose import TransformedTargetRegressor\n",
    "model=TransformedTargetRegressor()\n",
    "model.fit(house[\"median_income\"],housing_labels)\n",
    "new=house[[\"median_income\"]].iloc[:5]\n",
    "prediction=model.predict(new)\n"
   ],
   "outputs": [],
   "execution_count": null
  },
  {
   "metadata": {},
   "cell_type": "code",
   "source": [
    "from sklearn.preprocessing import FunctionTransformer\n",
    "transformer=FunctionTransformer(np.log,inverse_func=np.exp)\n",
    "log_age=transformer.transform(house[[\"median_house_age\"]])\n",
    "\n"
   ],
   "outputs": [],
   "execution_count": null
  },
  {
   "metadata": {},
   "cell_type": "code",
   "source": [
    "from sklearn.preprocessing import FunctionTransformer\n",
    "transformer=FunctionTransformer(rbf_kernel,kw_args=dict(Y=[[35.]],gamma=0.1))\n",
    "age_simil35=transformer.fit_transform(house[[\"median_house_age\"]])\n",
    "\n",
    "\n"
   ],
   "outputs": [],
   "execution_count": null
  },
  {
   "metadata": {},
   "cell_type": "code",
   "source": [
    "from sklearn.preprocessing import FunctionTransformer\n",
    "from sklearn.metrics.pairwise import rbf_kernel\n",
    "sf_coords=37.7749, -122.41\n",
    "transformer=FunctionTransformer(rbf_kernel(sf_coords,gamma=0.1))\n",
    "transformer.transform(house[[\"latitude\",\"longitude\"]])\n"
   ],
   "outputs": [],
   "execution_count": null
  },
  {
   "metadata": {},
   "cell_type": "code",
   "source": [
    "from sklearn.preprocessing import FunctionTransformer\n",
    "from sklearn.metrics.pairwise import pairwise_distances\n",
    "sf_cords=37.7749, -122.41\n",
    "transformer_pairdis=FunctionTransformer(pairwise_distances(sf_coords))\n",
    "transformer_pairdis.transform(house[[\"latitude\",\"longitude\"]])\n",
    "\n"
   ],
   "outputs": [],
   "execution_count": null
  },
  {
   "metadata": {},
   "cell_type": "code",
   "source": [
    "from sklearn import BaseEstimator,TransformerMixin\n",
    "from sklearn.cluster import KMeans\n",
    "from sklearn.metrics.pairwise import rbf_kernel\n",
    "sf_coords=37.7749, -122.41\n",
    "\n",
    "\n",
    "\n",
    "class ClusterEstimator(BaseEstimator,TransformerMixin):\n",
    "    def __init__(self,n_clusters=5,gamma=1.0,random_state=222):\n",
    "        self.n_clusters=n_clusters\n",
    "        self.gamma=gamma\n",
    "        self.random_state=random_state\n",
    "    def fit(self,X,y,sample_weight=None):\n",
    "        self.kmeans=KMeans(self.n_clusters,random_state=self.random_state)\n",
    "        self.kmeans.fit(X,sample_weight=sample_weight)\n",
    "        return self \n",
    "    def transform(self,X):\n",
    "        return rbf_kernel(X,self.kmeans.clusters_centers_,gamma=0.1)\n",
    "    def get_features_name_out(self,names=None):\n",
    "        return [f\"Cluster Similarity{i}\" for i in range(self.n_clusters)]\n",
    "     \n",
    "    \n",
    "        \n",
    "        \n",
    "        \n",
    "        \n",
    "        "
   ],
   "outputs": [],
   "execution_count": null
  },
  {
   "metadata": {
    "ExecuteTime": {
     "end_time": "2025-02-03T07:55:24.597130Z",
     "start_time": "2025-02-03T07:55:24.457799Z"
    }
   },
   "cell_type": "code",
   "source": [
    "\n",
    "geo_simil=ClusterEstimator(n_clusters=10,gamma=1.,random_state=222)\n",
    "similarities=geo_simil.fit_transform(house[[\"longitude\",\"latitude\"]],sample_weight=housing_labels)"
   ],
   "outputs": [
    {
     "ename": "NameError",
     "evalue": "name 'ClusterEstimator' is not defined",
     "output_type": "error",
     "traceback": [
      "\u001B[1;31m---------------------------------------------------------------------------\u001B[0m",
      "\u001B[1;31mNameError\u001B[0m                                 Traceback (most recent call last)",
      "Cell \u001B[1;32mIn[1], line 1\u001B[0m\n\u001B[1;32m----> 1\u001B[0m geo_simil\u001B[38;5;241m=\u001B[39m\u001B[43mClusterEstimator\u001B[49m(n_clusters\u001B[38;5;241m=\u001B[39m\u001B[38;5;241m10\u001B[39m,gamma\u001B[38;5;241m=\u001B[39m\u001B[38;5;241m1.\u001B[39m,random_state\u001B[38;5;241m=\u001B[39m\u001B[38;5;241m222\u001B[39m)\n",
      "\u001B[1;31mNameError\u001B[0m: name 'ClusterEstimator' is not defined"
     ]
    }
   ],
   "execution_count": 1
  },
  {
   "metadata": {},
   "cell_type": "code",
   "outputs": [],
   "execution_count": null,
   "source": [
    "from sklearn import BaseEstimator,TransformerMixin\n",
    "from sklearn.cluster import KMeans\n",
    "from sklearn.metrics.pairwise import rbf_kernel\n",
    "class ClusterEstimator(BaseEstimator,TransformerMixin):\n",
    "    def __init__(self,n_clusters=10,gamma=0.1,random_state=22):\n",
    "        self.n_clusters=n_clusters\n",
    "        self.gamma=gamma\n",
    "        self.random_state=random_state\n",
    "    def fit(self,X,y=None,sample_weights=None):\n",
    "        self.kmeans=KMeans(self.n_clusters,random_state=self.random_state)\n",
    "        self.kmeans.fit(X,y=None,sample_weight=None)\n",
    "        return self\n",
    "    def transform(self,X):\n",
    "        return rbf_kernel(X,self.kmeans,gamma=2.)\n",
    "    \n",
    "        "
   ]
  },
  {
   "metadata": {},
   "cell_type": "code",
   "outputs": [],
   "execution_count": null,
   "source": [
    "\n",
    "from sklearn import BaseEstimator,TransformerMixin\n",
    "from sklearn.metrics.pairwise import rbf_kernel\n",
    "\n",
    "\n",
    "\n",
    "class RBF(BaseEstimator,TransformerMixin):\n",
    "    def __init__(self,gamma=0.1):\n",
    "        self.gamma=gamma\n",
    "    def fit(self,X):\n",
    "        return self\n",
    "    def transform(self,X):\n",
    "        return rbf_kernel(X,self.gamma)\n",
    "    \n",
    "        \n",
    "        "
   ]
  },
  {
   "metadata": {},
   "cell_type": "code",
   "outputs": [],
   "execution_count": null,
   "source": [
    "from sklearn.pipeline import Pipeline\n",
    "from sklearn.metrics.pairwise import rbf_kernel\n",
    "from sklearn.preprocessing import StandardScaler\n",
    "from sklearn.impute import SimpleImputer\n",
    "my_pipe=Pipeline([\n",
    "    \"impute\",SimpleImputer(strategy='Median'),\n",
    "    \"scaler\",StandardScaler(),\n",
    "    \"rbf\",rbf_kernel(gamma=0.1),\n",
    "    \n",
    "    \n",
    "    \n",
    "])\n",
    "my_pipe.fit(X,)\n",
    "    \n",
    "\n"
   ]
  }
 ],
 "metadata": {
  "kernelspec": {
   "display_name": "~samay",
   "language": "python",
   "name": "python3"
  },
  "language_info": {
   "codemirror_mode": {
    "name": "ipython",
    "version": 3
   },
   "file_extension": ".py",
   "mimetype": "text/x-python",
   "name": "python",
   "nbconvert_exporter": "python",
   "pygments_lexer": "ipython3",
   "version": "3.11.9"
  }
 },
 "nbformat": 4,
 "nbformat_minor": 2
}
