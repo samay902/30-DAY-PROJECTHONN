{
 "cells": [
  {
   "cell_type": "code",
   "id": "initial_id",
   "metadata": {
    "collapsed": true,
    "ExecuteTime": {
     "end_time": "2025-03-06T07:51:50.886422Z",
     "start_time": "2025-03-06T07:51:50.880540Z"
    }
   },
   "source": [
    "import numpy as np\n",
    "confus_matrix=np.array([[60,10],\n",
    "                         [10,20]])\n",
    "TP=confus_matrix[1:,1]\n",
    "\n",
    "print(TP)\n",
    "FP=confus_matrix[:1,1]\n",
    "print(FP)\n",
    "FN=confus_matrix[1:,0]\n",
    "print(FN)\n",
    "TN=confus_matrix[:1,0]\n",
    "print(TN)\n",
    "\n",
    "\n",
    "\n",
    "                       "
   ],
   "outputs": [
    {
     "name": "stdout",
     "output_type": "stream",
     "text": [
      "[20]\n",
      "[10]\n",
      "[10]\n",
      "[60]\n"
     ]
    }
   ],
   "execution_count": 53
  },
  {
   "metadata": {
    "ExecuteTime": {
     "end_time": "2025-03-06T07:51:50.892846Z",
     "start_time": "2025-03-06T07:51:50.887430Z"
    }
   },
   "cell_type": "code",
   "source": [
    "precision=TP/(TP+FP)\n",
    "print(precision)"
   ],
   "id": "6586a9d58271f1c8",
   "outputs": [
    {
     "name": "stdout",
     "output_type": "stream",
     "text": [
      "[0.66666667]\n"
     ]
    }
   ],
   "execution_count": 54
  },
  {
   "metadata": {
    "ExecuteTime": {
     "end_time": "2025-03-06T07:51:50.900305Z",
     "start_time": "2025-03-06T07:51:50.894969Z"
    }
   },
   "cell_type": "code",
   "source": [
    "recall=TP/(TP+FN)\n",
    "print(recall)"
   ],
   "id": "e45e28a68bf7370b",
   "outputs": [
    {
     "name": "stdout",
     "output_type": "stream",
     "text": [
      "[0.66666667]\n"
     ]
    }
   ],
   "execution_count": 55
  },
  {
   "metadata": {
    "ExecuteTime": {
     "end_time": "2025-03-06T07:51:50.906159Z",
     "start_time": "2025-03-06T07:51:50.901311Z"
    }
   },
   "cell_type": "code",
   "source": [
    "f1_score=(2*precision*recall)/(precision+recall)\n",
    "print(f1_score)"
   ],
   "id": "3b7be63c37f65fb9",
   "outputs": [
    {
     "name": "stdout",
     "output_type": "stream",
     "text": [
      "[0.66666667]\n"
     ]
    }
   ],
   "execution_count": 56
  },
  {
   "metadata": {
    "ExecuteTime": {
     "end_time": "2025-03-06T07:51:50.911730Z",
     "start_time": "2025-03-06T07:51:50.908171Z"
    }
   },
   "cell_type": "code",
   "source": [
    "spec=TN/(TN+FN)\n",
    "print(spec)"
   ],
   "id": "d3c00add5d586b32",
   "outputs": [
    {
     "name": "stdout",
     "output_type": "stream",
     "text": [
      "[0.85714286]\n"
     ]
    }
   ],
   "execution_count": 57
  },
  {
   "metadata": {
    "ExecuteTime": {
     "end_time": "2025-03-06T07:51:50.918114Z",
     "start_time": "2025-03-06T07:51:50.913738Z"
    }
   },
   "cell_type": "code",
   "source": [
    "fallout_fpr=1-spec\n",
    "print(fallout_fpr)"
   ],
   "id": "d95ab506ca2cf679",
   "outputs": [
    {
     "name": "stdout",
     "output_type": "stream",
     "text": [
      "[0.14285714]\n"
     ]
    }
   ],
   "execution_count": 58
  },
  {
   "metadata": {
    "ExecuteTime": {
     "end_time": "2025-03-06T08:06:29.455589Z",
     "start_time": "2025-03-06T08:06:29.443855Z"
    }
   },
   "cell_type": "code",
   "source": [
    "from sklearn.metrics import precision_score,recall_score,confusion_matrix\n",
    "y_tru=[1]*30+[0]*70\n",
    "\n",
    "y_pred = [1]*20 + [0]*10 + [1]*10 + [0]*60\n",
    "cm=confusion_matrix(y_tru,y_pred)\n",
    "print(cm)\n"
   ],
   "id": "c0a064fbce460da1",
   "outputs": [
    {
     "name": "stdout",
     "output_type": "stream",
     "text": [
      "[[60 10]\n",
      " [10 20]]\n"
     ]
    }
   ],
   "execution_count": 76
  },
  {
   "metadata": {
    "ExecuteTime": {
     "end_time": "2025-03-06T08:04:44.274291Z",
     "start_time": "2025-03-06T08:04:44.269704Z"
    }
   },
   "cell_type": "code",
   "source": "",
   "id": "815e7e04d3820e27",
   "outputs": [
    {
     "name": "stdout",
     "output_type": "stream",
     "text": [
      "[[70  0]\n",
      " [ 0 30]]\n"
     ]
    }
   ],
   "execution_count": 72
  }
 ],
 "metadata": {
  "kernelspec": {
   "display_name": "Python 3",
   "language": "python",
   "name": "python3"
  },
  "language_info": {
   "codemirror_mode": {
    "name": "ipython",
    "version": 2
   },
   "file_extension": ".py",
   "mimetype": "text/x-python",
   "name": "python",
   "nbconvert_exporter": "python",
   "pygments_lexer": "ipython2",
   "version": "2.7.6"
  }
 },
 "nbformat": 4,
 "nbformat_minor": 5
}
