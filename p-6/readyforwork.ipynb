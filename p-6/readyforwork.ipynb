{
 "cells": [
  {
   "metadata": {},
   "cell_type": "raw",
   "source": [
    "e#%%\n",
    "oimport numpy as np\n",
    "import pandas as pd\n",
    "import tarfile\n",
    "import urllib.request\n",
    "from pathlib import Path\n",
    "\n",
    "\n",
    "def load_housing_data():\n",
    "    tarball_path = Path(\"numpyex/housing.tgz\")\n",
    "    if not tarball_path.is_file():\n",
    "        Path(\"numpyex\").mkdir(parents=True, exist_ok=True)\n",
    "        url = \"https://github.com/ageron/data/raw/main/housing.tgz\"\n",
    "        urllib.request.urlretrieve(url, tarball_path)\n",
    "        with tarfile.open(tarball_path) as housing_tarball:\n",
    "            housing_tarball.extractall(path=\"numpyex\")\n",
    "    return pd.read_csv(Path(\"numpyex/housing/housing.csv\"))\n",
    "house=load_housing_data()\n",
    "house.head()\n",
    "\n",
    "\n"
   ],
   "id": "d723caf0d291ddc2"
  },
  {
   "metadata": {},
   "cell_type": "code",
   "source": [
    "\n",
    "import matplotlib.pyplot as plt\n",
    "plt.rc('font', size=14)\n",
    "plt.rc('axes', labelsize=14, titlesize=14)\n",
    "plt.rc('legend', fontsize=14)\n",
    "plt.rc('xtick', labelsize=10)\n",
    "plt.rc('ytick', labelsize=10)\n",
    "house.hist(bins=46,figsize=(12,10))\n",
    "plt.show()\n",
    "\n",
    "\n",
    "\n",
    "\n",
    "\n",
    "\n",
    "\n",
    "\n",
    "\n",
    "\n",
    "    \n"
   ],
   "id": "70b9e6e756e5195c",
   "outputs": [],
   "execution_count": null
  },
  {
   "metadata": {},
   "cell_type": "code",
   "source": "house[\"med_inc_cat\"] = pd.cut(house[\"median_income\"], bins=[0, 1, 3, 4, 6, np.inf], labels=[1, 2, 3, 4, 5])",
   "id": "bd567914d5ddde61",
   "outputs": [],
   "execution_count": null
  },
  {
   "metadata": {},
   "cell_type": "code",
   "source": [
    "house[\"med_inc_cat\"].value_counts().sort_index().plot.bar(rot=0, figsize=(12,10),grid=True)\n",
    "plt.title(\"Median Income\")\n",
    "plt.xlabel(\"income\")\n",
    "plt.ylabel(\"count\")\n",
    "plt.show()"
   ],
   "id": "fd13cc2464b018c4",
   "outputs": [],
   "execution_count": null
  },
  {
   "metadata": {},
   "cell_type": "code",
   "source": [
    "from sklearn.model_selection import train_test_split\n",
    "\n",
    "strat_train_set, strat_test_set = train_test_split(\n",
    "house, test_size=0.2, stratify=house[\"med_inc_cat\"], random_state=42)\n",
    "print(strat_test_set[\"med_inc_cat\"].value_counts() / len(strat_test_set))\n",
    "house[\"med_inc_cat\"].value_counts() / len(house)\n",
    "\n",
    "\n",
    "\n",
    "\n",
    "    \n",
    "    \n",
    "    \n",
    "    \n",
    "    \n",
    "    \n",
    "    \n",
    "    \n"
   ],
   "id": "147882bda9b36799",
   "outputs": [],
   "execution_count": null
  },
  {
   "metadata": {},
   "cell_type": "code",
   "source": [
    "house=strat_train_set.copy()\n",
    "print(strat_train_set.head())\n"
   ],
   "id": "fe708ba6a600cdba",
   "outputs": [],
   "execution_count": null
  },
  {
   "metadata": {},
   "cell_type": "code",
   "source": [
    "house.plot(kind=\"scatter\",x=\"longitude\",y=\"latitude\",grid=\"True\",alpha=0.2)\n",
    "plt.show()"
   ],
   "id": "d9bc0e51dd4da7b0",
   "outputs": [],
   "execution_count": null
  },
  {
   "metadata": {},
   "cell_type": "code",
   "source": [
    "house.plot(kind=\"scatter\",x=\"longitude\",y=\"latitude\",grid=\"True\",s=(house[\"population\"])/1000,c=house[\"median_house_value\"],cmap=\"jet\",colorbar=True,legend=True\n",
    ",figsize=(12,10))\n",
    "plt.show()"
   ],
   "id": "f8495cf4c2b7888",
   "outputs": [],
   "execution_count": null
  },
  {
   "metadata": {},
   "cell_type": "code",
   "source": [
    "from pandas.plotting import scatter_matrix\n",
    "attributes=[\"median_house_value\",\"population\",\"median_income\",\"total_rooms\",\"latitude\",\"longitude\"]\n",
    "scatter_matrix(house[attributes],figsize=(12,10))\n",
    "                                               \n",
    "\n"
   ],
   "id": "d60001f630678b8f",
   "outputs": [],
   "execution_count": null
  },
  {
   "metadata": {},
   "cell_type": "code",
   "source": [
    "house.plot(kind=\"scatter\",x=\"median_income\",y=\"median_house_value\",alpha=0.2,grid=True)\n",
    "plt.show()"
   ],
   "id": "92e1023ce428189e",
   "outputs": [],
   "execution_count": null
  },
  {
   "metadata": {},
   "cell_type": "code",
   "source": [
    "house.plot(kind=\"scatter\",x=\"housing_median_age\",y=\"median_house_value\",alpha=0.2,grid=True)\n",
    "plt.show()"
   ],
   "id": "10b18652eaa68dec",
   "outputs": [],
   "execution_count": null
  },
  {
   "metadata": {},
   "cell_type": "code",
   "source": [
    "house.plot(kind=\"scatter\",x=\"housing_median_age\",y=\"population\",alpha=0.2,grid=True)\n",
    "plt.show()"
   ],
   "id": "50e56e550b601ae4",
   "outputs": [],
   "execution_count": null
  },
  {
   "metadata": {},
   "cell_type": "code",
   "source": [
    "\n",
    "house=strat_train_set.drop(\"median_house_value\",axis=1)\n",
    "print(house.shape)\n",
    "housing_labels=strat_train_set[\"median_house_value\"].copy()"
   ],
   "id": "965369c6f2066ae7",
   "outputs": [],
   "execution_count": null
  },
  {
   "metadata": {},
   "cell_type": "code",
   "source": [
    "from sklearn.pipeline import make_pipeline\n",
    "from sklearn.cluster import KMeans\n",
    "from sklearn.preprocessing import OneHotEncoder\n",
    "\n",
    "\n",
    "from sklearn.compose import make_column_selector\n",
    "from sklearn.preprocessing import FunctionTransformer\n",
    "from sklearn.compose import ColumnTransformer\n",
    "from sklearn.preprocessing import StandardScaler\n",
    "from sklearn.impute import SimpleImputer\n",
    "\n",
    "\n",
    "\n",
    "cat_pipeline=make_pipeline(SimpleImputer(strategy=\"most_frequent\"),OneHotEncoder(handle_unknown=\"ignore\"))\n",
    "\n",
    "\n",
    "\n",
    "\n",
    "\n",
    "\n",
    "def ratio(x):\n",
    "    return x[:,[0]]/x[:,[1]]\n",
    "def ratio_name(feature_transformer,features_names_in):\n",
    "    return ['ratio']\n",
    "\n",
    "def ratio_pipeline():\n",
    "    return make_pipeline(SimpleImputer(strategy=\"median\"),FunctionTransformer(ratio,feature_names_out=ratio_name),StandardScaler())\n",
    "log_pipeline=make_pipeline(\n",
    "    SimpleImputer(strategy=\"median\"),\n",
    "    FunctionTransformer(np.log,feature_names_out=\"one-to-one\")\n",
    ")\n",
    "Cluster_Simil=KMeans(n_clusters=10,n_init=10,random_state=100)\n",
    "default_num_pipeline=make_pipeline(SimpleImputer(strategy=\"median\"),StandardScaler())\n",
    "custom_trans=ColumnTransformer([\n",
    "    (\"pop_per_house\",ratio_pipeline(),[\"population\",\"households\"]),\n",
    "    (\"rooms_per_house\",ratio_pipeline(),[\"total_rooms\",\"households\"]),\n",
    "    (\"bedroom_per_room\",ratio_pipeline(),[\"total_bedrooms\",\"total_rooms\"]),\n",
    "    (\"log\",log_pipeline,[\"total_rooms\",\"total_bedrooms\",\"median_income\",\"population\"]),\n",
    "    (\"geo\",Cluster_Simil,[\"longitude\",\"latitude\"]),\n",
    "    (\"cat\",cat_pipeline,make_column_selector(dtype_include=\"object\")),\n",
    "    \n",
    "    \n",
    "    \n",
    "    \n",
    "],\n",
    "   remainder=default_num_pipeline)\n",
    "house_prepared=custom_trans.fit_transform(house)\n",
    "print(house_prepared.shape)\n",
    "    \n",
    "\n",
    "\n",
    "    \n",
    "\n",
    "\n",
    "        \n"
   ],
   "id": "20ef6983e0da6dac",
   "outputs": [],
   "execution_count": null
  },
  {
   "metadata": {},
   "cell_type": "code",
   "source": [
    "from sklearn.ensemble import RandomForestRegressor\n",
    "rtree_reg=make_pipeline(custom_trans,RandomForestRegressor(random_state=22))\n",
    "rtree_reg.fit(house,housing_labels)\n",
    "predict_rtree=rtree_reg.predict(house)\n",
    "\n"
   ],
   "id": "e4ebcec49e09256a",
   "outputs": [],
   "execution_count": null
  },
  {
   "metadata": {},
   "cell_type": "code",
   "source": [
    "from sklearn.ensemble import RandomForestRegressor\n",
    "from sklearn.model_selection import GridSearchCV\n",
    "final_model=make_pipeline(custom_trans,RandomForestRegressor(max_features=6,random_state=88,n_estimators=500))\n",
    "final_model.fit(house,housing_labels)\n",
    "\n"
   ],
   "id": "7e28cf0b04d2033",
   "outputs": [],
   "execution_count": null
  },
  {
   "metadata": {},
   "cell_type": "code",
   "source": [
    "from sklearn.metrics import mean_squared_error\n",
    "prediction_test=final_model.predict(strat_test_set.drop(\"median_house_value\",axis=1))\n",
    "mse=mean_squared_error(strat_test_set[\"median_house_value\"],prediction_test)\n",
    "rmse=np.sqrt(mse)\n",
    "print(rmse)\n",
    "                                    "
   ],
   "id": "f87688cd7c2ad03e",
   "outputs": [],
   "execution_count": null
  },
  {
   "metadata": {},
   "cell_type": "code",
   "source": [
    "from xgboost import XGBRegressor\n",
    "xgb_final=make_pipeline(custom_trans,XGBRegressor(n_estimators=1000,max_depth=5,learning_rate=0.1,random_state=12))\n",
    "xgb_final.fit(house,housing_labels)\n",
    "pred_xg=xgb_final.predict(strat_test_set.drop(\"median_house_value\",axis=1))\n",
    "mse=mean_squared_error(strat_test_set[\"median_house_value\"],pred_xg)\n",
    "rmsse=np.sqrt(mse)\n",
    "print(rmsse)\n",
    "\n"
   ],
   "id": "b61bbe706d5de88e",
   "outputs": [],
   "execution_count": null
  },
  {
   "metadata": {},
   "cell_type": "code",
   "source": [
    "import joblib\n",
    "joblib.dump(rtree_reg,\"housing_model.pkl\")\n",
    "print('SUCCESS')"
   ],
   "id": "6e22f9f7282f2424",
   "outputs": [],
   "execution_count": null
  },
  {
   "metadata": {},
   "cell_type": "code",
   "source": [
    "# from sklearn.svm import SVR\n",
    "# from sklearn.model_selection import RandomizedSearchCV\n",
    "# from scipy.stats import loguniform,expon\n",
    "# from sklearn.pipeline import Pipeline\n",
    "# \n",
    "# \n",
    "# param_distribs={\n",
    "#     \"svr__kernel\":[\"rbf\",\"linear\"],\n",
    "#     \"svr__C\":loguniform(2,200_000),\n",
    "#     \"svr__gamma\":[expon(scale=1.0)],\n",
    "#     \n",
    "# }\n",
    "# svr_pipeline=Pipeline([\n",
    "#     (\"preprocessing\",custom_trans),\n",
    "#     (\"svr\",SVR())\n",
    "#     \n",
    "#     \n",
    "#     \n",
    "#     \n",
    "# ])\n",
    "# random_search=RandomizedSearchCV(svr_pipeline,param_distributions=param_distribs,cv=3,n_iter=50,scoring=\"neg_mean_squared_error\",random_state=44)\n",
    "# random_search.fit(house,housing_labels)\n",
    "\n"
   ],
   "id": "89e7d838e9a01b99",
   "outputs": [],
   "execution_count": null
  },
  {
   "metadata": {},
   "cell_type": "markdown",
   "source": "",
   "id": "c3602ef403137bfd"
  },
  {
   "metadata": {},
   "cell_type": "code",
   "source": [
    "from sklearn.svm import SVR\n",
    "from sklearn.model_selection import GridSearchCV\n",
    "from sklearn.pipeline import Pipeline\n",
    "\n",
    "my_pipeline=Pipeline([\n",
    "    (\"preprocessing\",custom_trans),\n",
    "    (\"svr\",SVR()),\n",
    "])\n",
    "param_grid={\n",
    "    \"svr__kernel\":[\"linear\"],\n",
    "    \"svr__C\":[2.,3.,40.,32.,38.,100.],\n",
    "\n",
    "\n",
    "\n",
    "\n",
    "\n",
    "\n",
    "}\n",
    "grid_search=GridSearchCV(my_pipeline,param_grid,cv=3,scoring=\"neg_mean_squared_error\")\n",
    "grid_search.fit(house[:5000],housing_labels[:5000])\n"
   ],
   "id": "e89e48d757fe0a7d",
   "outputs": [],
   "execution_count": null
  },
  {
   "metadata": {},
   "cell_type": "code",
   "source": [
    "from sklearn.model_selection import RandomizedSearchCV\n",
    "from scipy.stats import loguniform\n",
    "from scipy.stats import expon\n",
    "param_distrib={\n",
    "    \"svr__kernel\":[\"linear\",\"rbf\"],\n",
    "    \"svr__C\":loguniform(2.,20_000),\n",
    "    \"svr__gamma\":expon(scale=1.0),\n",
    "    \n",
    "    \n",
    "}\n",
    "rand_search=RandomizedSearchCV(my_pipeline,param_distrib,n_iter=10,cv=3,random_state=42,scoring=\"neg_mean_squared_error\")\n",
    "rand_search.fit(house[:5000],housing_labels[:5000])\n",
    "\n",
    "\n",
    "    \n",
    "    \n",
    "    \n",
    "\n",
    "    \n",
    "\n"
   ],
   "id": "7ab4280cf719b024",
   "outputs": [],
   "execution_count": null
  },
  {
   "metadata": {},
   "cell_type": "code",
   "source": [
    "# from sklearn.preprocessing import SelectFromModel\n",
    "# selector_pipeline=Pipeline([\n",
    "#     (\"preprocessing\",custom_trans),\n",
    "#     (\"selector\",SelectFromModel(RandomForestRegressor(random_state=44),threshold=0.001)),\n",
    "#     (\"svr\",SVR(C=rnd.best_params_[\"svr__C\"],\n",
    "#                gamma=rnd.best_params_[\"svr__gamma\"],\n",
    "#                kernel=rnd.best_params_[\"svr__kernel\"]))\n",
    "#      \n",
    "    \n",
    "    \n",
    "    \n",
    "    "
   ],
   "id": "51b4e8fa0cafcffb",
   "outputs": [],
   "execution_count": null
  },
  {
   "metadata": {},
   "cell_type": "code",
   "source": [
    "# selector_rmses=-cross_val_score(selector_pipeline,house.iloc[:5000],housing_labels.iloc[:5000],scoring=\"neg_mean_squared_error\",cv=3)\n",
    "# # print(selector_rmses.describe())"
   ],
   "id": "b3de04797252e72b",
   "outputs": [],
   "execution_count": null
  },
  {
   "metadata": {},
   "cell_type": "code",
   "source": [
    "from sklearn.preprocessing import FunctionTransformer\n",
    "from sklearn.neighbors import KNeighborsRegressor\n",
    "from sklearn.base import MetaEstimatorMixin,clone,TransformerMixin,BaseEstimator\n",
    "from sklearn.utils.validation import check_array,check_is_fitted\n",
    "\n",
    "class FeatureFromRegressor(MetaEstimatorMixin,TransformerMixin,BaseEstimator):\n",
    "    def __init__(self,estimator):\n",
    "        self.estimator=estimator\n",
    "    \n",
    "    def fit(self, X, y = None):\n",
    "        check_array(X)#input check\n",
    "        self.estimator_=clone(self.estimator)\n",
    "        self.estimator_.fit(X,y)\n",
    "        self.n_features_in_=self.estimator_.n_features_in_\n",
    "        if hasattr(self.estimator_,\"features_names_in_\"):\n",
    "            self.features_names_in_=self.estimator_.feature_names_in_\n",
    "        return self\n",
    "    def transform(self,X):\n",
    "        check_is_fitted(self)\n",
    "        predictions=self.estimator_.predict(X)\n",
    "        if predictions.ndim == 1:\n",
    "            predictions=predictions.reshape(-1,1)\n",
    "        return predictions\n",
    "    def get_features_names_out(self,names=None):\n",
    "        check_is_fitted(self)\n",
    "        n_outputs=getattr(self.estimator,\"n_outputs\",1)\n",
    "        estimator_class_name=self.estimator_.__class__.__name__\n",
    "        estimator_short_name=estimator_class_name.lower().replace(\"_\",\"\")\n",
    "        return[f\"{estimator_short_name}_prediction_{i}\"\n",
    "           for i in range(n_outputs)]\n",
    "    \n",
    "        \n",
    "    \n",
    "    \n",
    "    \n",
    "\n",
    "                                                  \n",
    "\n",
    "\n"
   ],
   "id": "d68fc56c3fabb540",
   "outputs": [],
   "execution_count": null
  },
  {
   "metadata": {},
   "cell_type": "code",
   "source": [
    "from sklearn.utils.estimator_checks import check_estimator\n",
    "test_results=check_estimator(FeatureFromRegressor(KNeighborsRegressor()))"
   ],
   "id": "5460cc147692be5b",
   "outputs": [],
   "execution_count": null
  },
  {
   "metadata": {},
   "cell_type": "markdown",
   "source": "",
   "id": "c953896eb4845981"
  },
  {
   "metadata": {},
   "cell_type": "code",
   "source": [
    "knn_reg=KNeighborsRegressor(n_neighbors=3,weights='distance')\n",
    "knn_transformer=FeatureFromRegressor(knn_reg)\n",
    "geo_features=house[[\"latitude\",\"longitude\"]]\n",
    "knn_transformer.fit(geo_features,housing_labels)"
   ],
   "id": "fdd12f9cdd6aaf31",
   "outputs": [],
   "execution_count": null
  },
  {
   "metadata": {},
   "cell_type": "code",
   "source": "knn_transformer.get_features_names_out()\n",
   "id": "617635f45c3174da",
   "outputs": [],
   "execution_count": null
  },
  {
   "metadata": {},
   "cell_type": "markdown",
   "source": "",
   "id": "822e539400bf38a2"
  },
  {
   "metadata": {},
   "cell_type": "code",
   "outputs": [],
   "execution_count": null,
   "source": "",
   "id": "596d30b7bc52ffd2"
  },
  {
   "metadata": {},
   "cell_type": "code",
   "outputs": [],
   "execution_count": null,
   "source": [
    "from sklearn.base import clone\n",
    "transformers= [(name,clone(transformer),columns)\n",
    "               for name,transformer,columns in custom_trans.transformers]\n",
    "geo_index=[name for name,_,_ in transformers].index(\"geo\")\n",
    "transformers[geo_index]=(\"geo\",knn_transformer,[\"latitude\",\"longitude\"])\n",
    "new_geo_preprocessing=ColumnTransformer(transformers)\n",
    "\n",
    "\n"
   ],
   "id": "45dfc5d4fa2d33a4"
  },
  {
   "metadata": {},
   "cell_type": "code",
   "outputs": [],
   "execution_count": null,
   "source": [
    "new_geo_pipeline=Pipeline([\n",
    "    {\"preprocessing\",new_geo_preprocessing},\n",
    "    {\"svr\",SVR(C=rand_search.best_params_,\n",
    "    kernel=rand_search.best_params_,\n",
    "               gamma=rand_search.best_params_)\n",
    "            \n",
    "\n",
    "                                                    }\n",
    "    \n",
    "    \n",
    "    \n",
    "])\n"
   ],
   "id": "4256116c9b129623"
  },
  {
   "metadata": {},
   "cell_type": "code",
   "outputs": [],
   "execution_count": null,
   "source": [
    "from sklearn.model_selection import cross_val_score\n",
    "import pandas as pd\n",
    "new_pipe_rmses=-cross_val_score(new_geo_pipeline,house.iloc[:5000],housing_labels.iloc[:5000],cv=3,scoring=\"neg_mean_squared_error\")\n",
    "pd.Series(new_pipe_rmses).describe()\n"
   ],
   "id": "f78350ed7899ddfc"
  },
  {
   "metadata": {},
   "cell_type": "code",
   "outputs": [],
   "execution_count": null,
   "source": [
    "param_distrib={\n",
    "    \"preprocessing_geo_estimator_n_neighbors\":range(1,30),\n",
    "    \"preprocessing_geo_estimator__weights\":[\"distance\",\"weights\"],\n",
    "    \"svr__C\":loguniform(20,200_000),\n",
    "    \"svr__gamma\":expon(scale=1.0),\n",
    "    \n",
    "    \n",
    "    \n",
    "    \n",
    "    \n",
    "}\n",
    "new_geo_rnd_search=RandomizedSearchCV(new_geo_pipeline,\n",
    "                                      param_distributions=param_distrib,n_iter=50,scoring=\"neg_mean_squared_error\",cv=3)\n",
    "new_geo_rnd_search.fit(house.iloc[:5000],housing_labels.iloc[:5000])\n",
    "\n",
    "                                      \n",
    "                                      "
   ],
   "id": "461388df0fb946f6"
  },
  {
   "metadata": {},
   "cell_type": "code",
   "outputs": [],
   "execution_count": null,
   "source": [
    "new_geo_rnd_search_rmse=-new_geo_rnd_search.best_score_\n",
    "print(new_geo_rnd_search_rmse)"
   ],
   "id": "b4107b6f699785a2"
  },
  {
   "metadata": {},
   "cell_type": "code",
   "outputs": [],
   "execution_count": null,
   "source": [
    "import numpy as np\n",
    "from sklearn.base import BaseEstimator,TransformerMixin\n",
    "from sklearn.utils.validation import check_is_fitted,validate_data\n",
    "class StandardScalerClone(TransformerMixin,BaseEstimator):\n",
    "    def __init__(self,with_mean=None):\n",
    "        self.with_mean=with_mean\n",
    "    def fit(self,X,y=None):\n",
    "        X=validate_data(self,X,ensure_2d=True)\n",
    "        self.n_features_in_=X.shape[1]\n",
    "        if self.with_mean:\n",
    "            self.mean_=np.mean(X,axis=0)\n",
    "        self.scale_=np.std(X,axis=0,ddof=0)\n",
    "        self.scale_[self.scale_==0]=1\n",
    "        return self\n",
    "    def transform(self,X):\n",
    "        check_is_fitted(self)\n",
    "        X=validate_data(self,X,ensure_2d=True,reset=False)\n",
    "        if self.with_mean:\n",
    "            X=X-self.mean_\n",
    "        return X/self.scale_\n",
    "    def inverse_transform(self,X):\n",
    "        check_is_fitted(self)\n",
    "        X=validate_data(self,X,ensure_2d=True,reset=False)\n",
    "        return X* self.scale_+self.mean_\n",
    "    def get_features_names_out(self,input_features=None):\n",
    "        if input_features is None:\n",
    "            return getattr(self,\"feature_names_in_\",\n",
    "                           [f\"x{i}\" for i in range(self.n_features_in_)])\n",
    "        else:\n",
    "            if len(input_features)!= self.n_features_in_:\n",
    "                raise ValueError('invalid num of features')\n",
    "            if hasattr(self,\"features_names_in_\") and not np.all(\n",
    "                self.feature_names_in_ == input_features\n",
    "                \n",
    "            ):\n",
    "                raise ValueError(\"input != feat name in\")\n",
    "            return input_features\n",
    "                           \n",
    "                           \n",
    "                           \n"
   ],
   "id": "cdecbfb1bfd36bf9"
  },
  {
   "metadata": {},
   "cell_type": "code",
   "outputs": [],
   "execution_count": null,
   "source": [
    "from sklearn.utils.estimator_checks import check_estimator\n",
    "check_estimator(StandardScalerClone())"
   ],
   "id": "1c418c769931e442"
  },
  {
   "metadata": {},
   "cell_type": "code",
   "outputs": [],
   "execution_count": null,
   "source": [
    "np.random.seed(42)\n",
    "\n",
    "\n",
    "X=np.random.rand(1000,3)\n",
    "scaler=StandardScalerClone()\n",
    "X_scaled_uncentered=scaler.fit_transform(X)\n",
    "assert np.allclose(X_scaled_uncentered,X/X.std(axis=0))"
   ],
   "id": "c6e0d719407d7dc5"
  },
  {
   "metadata": {},
   "cell_type": "code",
   "outputs": [],
   "execution_count": null,
   "source": [
    "scaler=StandardScalerClone()\n",
    "X_back=scaler.inverse_transform(scaler.fit_transform(X))\n",
    "assert np.allclose(X,X_back)\n"
   ],
   "id": "3b91674833982669"
  },
  {
   "metadata": {},
   "cell_type": "code",
   "outputs": [],
   "execution_count": null,
   "source": [
    "assert np.all(scaler.get_feature_names_out()==[\"x0\",\"x1\",\"x2\"])\n",
    "assert np.all(scaler.get_feature_names_out([\"a\",\"b\",\"c\"])==[\"a\",\"b\",\"c\"])"
   ],
   "id": "84f4175741c42ca0"
  },
  {
   "metadata": {},
   "cell_type": "code",
   "outputs": [],
   "execution_count": null,
   "source": [
    "df=pd.DataFrame({\"a\":np.random.rand(100),\"b\":np.random.rand(100)})\n",
    "scaler=StandardScalerClone()\n",
    "X_scaled=scaler.fit_transform(df)\n",
    "assert np.all(scaler.feature_names_in_ ==[\"a\",\"b\"])\n",
    "assert np.all(scaler.get_features_names_out()==[\"a\",\"b\"])"
   ],
   "id": "9045904fe88ac896"
  },
  {
   "metadata": {},
   "cell_type": "code",
   "outputs": [],
   "execution_count": null,
   "source": "",
   "id": "6d3667ab0983744d"
  },
  {
   "metadata": {},
   "cell_type": "code",
   "outputs": [],
   "execution_count": null,
   "source": "",
   "id": "172408067abb7616"
  }
 ],
 "metadata": {
  "kernelspec": {
   "display_name": "Python 3",
   "language": "python",
   "name": "python3"
  },
  "language_info": {
   "codemirror_mode": {
    "name": "ipython",
    "version": 2
   },
   "file_extension": ".py",
   "mimetype": "text/x-python",
   "name": "python",
   "nbconvert_exporter": "python",
   "pygments_lexer": "ipython2",
   "version": "2.7.6"
  }
 },
 "nbformat": 4,
 "nbformat_minor": 5
}
