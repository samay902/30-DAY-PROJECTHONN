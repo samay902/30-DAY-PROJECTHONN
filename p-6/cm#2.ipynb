{
 "cells": [
  {
   "cell_type": "code",
   "id": "initial_id",
   "metadata": {
    "collapsed": true,
    "ExecuteTime": {
     "end_time": "2025-03-07T13:03:54.472183Z",
     "start_time": "2025-03-07T13:03:54.466168Z"
    }
   },
   "source": [
    "\n",
    "true_labels=[1, 0, 1, 0, 1, 0, 1, 0, 1, 0]\n",
    "probabilities=[0.95, 0.20, 0.85, 0.10, 0.70, 0.60, 0.90, 0.30, 0.65, 0.15]\n",
    "thresholds=[0.3,0.5,0.7,0.8]\n",
    "def give():\n",
    "    for threshold in thresholds:\n",
    "        yield threshold\n",
    "   \n",
    "for values in give():\n",
    "     \n",
    "    \n",
    "\n",
    "    predictions=[ 1 if prob>values else 0 for prob in probabilities]\n",
    "    accuracy=sum([1 for t,p in zip(true_labels,predictions) if t==p])/len(true_labels)\n",
    "    \n",
    "    t_p=sum([1 for t,p in zip(true_labels,predictions) if t==1 and p==1])\n",
    "    t_n=sum([1 for t,p in zip(true_labels,predictions) if t==0 and p==0])\n",
    "    f_p=sum([1 for t,p in zip(true_labels,predictions) if t==0 and p==1])\n",
    "    f_n=sum([1 for t,p in zip(true_labels,predictions) if t==1 and p==0])\n",
    "    recall=t_p/(t_p+f_n)\n",
    "    precision=t_p/(t_p+f_p)\n",
    "    f1_score=(2*recall+precision)/(recall+precision)\n",
    "   \n",
    "    print(f\"recall:{recall:.2f},precision:{precision:.2f},f1_score:{f1_score:.2f}\")\n",
    "        \n",
    "    \n",
    "    \n",
    "        \n",
    "    \n",
    "      \n",
    "\n"
   ],
   "outputs": [
    {
     "name": "stdout",
     "output_type": "stream",
     "text": [
      "recall:1.00,precision:0.83,f1_score:1.55\n",
      "recall:1.00,precision:0.83,f1_score:1.55\n",
      "recall:0.60,precision:1.00,f1_score:1.38\n",
      "recall:0.60,precision:1.00,f1_score:1.38\n"
     ]
    }
   ],
   "execution_count": 15
  },
  {
   "metadata": {
    "ExecuteTime": {
     "end_time": "2025-03-07T12:59:28.808886Z",
     "start_time": "2025-03-07T12:59:28.802853Z"
    }
   },
   "cell_type": "code",
   "source": [
    "for i in range(5):\n",
    "    print(i)\n",
    "    "
   ],
   "id": "26f9769d67279f5e",
   "outputs": [
    {
     "name": "stdout",
     "output_type": "stream",
     "text": [
      "0\n",
      "1\n",
      "2\n",
      "3\n",
      "4\n"
     ]
    }
   ],
   "execution_count": 11
  }
 ],
 "metadata": {
  "kernelspec": {
   "display_name": "Python 3",
   "language": "python",
   "name": "python3"
  },
  "language_info": {
   "codemirror_mode": {
    "name": "ipython",
    "version": 2
   },
   "file_extension": ".py",
   "mimetype": "text/x-python",
   "name": "python",
   "nbconvert_exporter": "python",
   "pygments_lexer": "ipython2",
   "version": "2.7.6"
  }
 },
 "nbformat": 4,
 "nbformat_minor": 5
}
