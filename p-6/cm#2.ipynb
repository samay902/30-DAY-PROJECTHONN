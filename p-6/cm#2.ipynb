{
 "cells": [
  {
   "cell_type": "code",
   "id": "initial_id",
   "metadata": {
    "collapsed": true,
    "ExecuteTime": {
     "end_time": "2025-03-06T15:08:28.093945Z",
     "start_time": "2025-03-06T15:08:28.087012Z"
    }
   },
   "source": [
    "import numpy as np \n",
    "true_labels=[1, 0, 1, 0, 1, 0, 1, 0, 1, 0]\n",
    "probabilities=[0.95, 0.20, 0.85, 0.10, 0.70, 0.60, 0.90, 0.30, 0.65, 0.15]\n",
    "threshold=0.5\n",
    "predictions=[1 if prob>threshold else 0 for prob in probabilities]\n",
    "accuracy=sum([1 for t,p in zip(true_labels,predictions) if t==p])/len(true_labels)\n",
    "print(accuracy)\n",
    "true_positives=sum([1 for t,p in zip(true_labels,predictions) if t==1 and p==1])\n",
    "true_negatives=sum([1 for t,p in zip(true_labels,predictions) if t==0 and p==0])\n",
    "false_positives=sum([1 for t,p in zip(true_labels,predictions) if t==0 and p==1])\n",
    "false_negatives=sum([1 for t,p in zip(true_labels,predictions) if t==1 and p==0])\n",
    "\n"
   ],
   "outputs": [
    {
     "name": "stdout",
     "output_type": "stream",
     "text": [
      "0.9\n"
     ]
    }
   ],
   "execution_count": 32
  },
  {
   "metadata": {
    "ExecuteTime": {
     "end_time": "2025-03-06T15:08:28.106198Z",
     "start_time": "2025-03-06T15:08:28.096956Z"
    }
   },
   "cell_type": "code",
   "source": [
    "from sklearn.metrics import recall_score,precision_score,f1_score\n",
    "print(recall_score(true_labels,predictions))\n",
    "print(precision_score(true_labels,predictions))\n",
    "print(f1_score(true_labels,predictions))"
   ],
   "id": "26f9769d67279f5e",
   "outputs": [
    {
     "name": "stdout",
     "output_type": "stream",
     "text": [
      "1.0\n",
      "0.8333333333333334\n",
      "0.9090909090909091\n"
     ]
    }
   ],
   "execution_count": 33
  },
  {
   "metadata": {
    "ExecuteTime": {
     "end_time": "2025-03-06T15:08:28.110959Z",
     "start_time": "2025-03-06T15:08:28.107664Z"
    }
   },
   "cell_type": "code",
   "source": [
    "recall=true_positives/(false_negatives+true_positives)\n",
    "print(recall)\n"
   ],
   "id": "b491240e41360424",
   "outputs": [
    {
     "name": "stdout",
     "output_type": "stream",
     "text": [
      "1.0\n"
     ]
    }
   ],
   "execution_count": 34
  }
 ],
 "metadata": {
  "kernelspec": {
   "display_name": "Python 3",
   "language": "python",
   "name": "python3"
  },
  "language_info": {
   "codemirror_mode": {
    "name": "ipython",
    "version": 2
   },
   "file_extension": ".py",
   "mimetype": "text/x-python",
   "name": "python",
   "nbconvert_exporter": "python",
   "pygments_lexer": "ipython2",
   "version": "2.7.6"
  }
 },
 "nbformat": 4,
 "nbformat_minor": 5
}
