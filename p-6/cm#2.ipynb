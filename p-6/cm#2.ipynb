{
 "cells": [
  {
   "cell_type": "code",
   "id": "initial_id",
   "metadata": {
    "collapsed": true,
    "ExecuteTime": {
     "end_time": "2025-03-07T08:05:17.020352Z",
     "start_time": "2025-03-07T08:05:16.850465Z"
    }
   },
   "source": [
    "import numpy as np \n",
    "true_labels=[1, 0, 1, 0, 1, 0, 1, 0, 1, 0]\n",
    "probabilities=[0.95, 0.20, 0.85, 0.10, 0.70, 0.60, 0.90, 0.30, 0.65, 0.15]\n",
    "threshold=[0.3]\n",
    "\n",
    "predictions=[ 1 if prob>threshold else 0 for prob in probabilities]\n",
    "accuracy=sum([1 for t,p in zip(true_labels,predictions) if t==p])/len(true_labels)\n",
    "print(accuracy)\n",
    "true_positives=sum([1 for t,p in zip(true_labels,predictions) if t==1 and p==1])\n",
    "true_negatives=sum([1 for t,p in zip(true_labels,predictions) if t==0 and p==0])\n",
    "false_positives=sum([1 for t,p in zip(true_labels,predictions) if t==0 and p==1])\n",
    "false_negatives=sum([1 for t,p in zip(true_labels,predictions) if t==1 and p==0])\n",
    "\n"
   ],
   "outputs": [
    {
     "name": "stdout",
     "output_type": "stream",
     "text": [
      "0.9\n"
     ]
    }
   ],
   "execution_count": 2
  },
  {
   "metadata": {
    "ExecuteTime": {
     "end_time": "2025-03-07T08:05:18.827448Z",
     "start_time": "2025-03-07T08:05:17.023670Z"
    }
   },
   "cell_type": "code",
   "source": [
    "from sklearn.metrics import recall_score,precision_score,f1_score\n",
    "print(recall_score(true_labels,predictions))\n",
    "print(precision_score(true_labels,predictions))\n",
    "print(f1_score(true_labels,predictions))"
   ],
   "id": "26f9769d67279f5e",
   "outputs": [
    {
     "name": "stdout",
     "output_type": "stream",
     "text": [
      "1.0\n",
      "0.8333333333333334\n",
      "0.9090909090909091\n"
     ]
    }
   ],
   "execution_count": 3
  },
  {
   "metadata": {
    "ExecuteTime": {
     "end_time": "2025-03-07T08:09:29.728983Z",
     "start_time": "2025-03-07T08:09:29.724168Z"
    }
   },
   "cell_type": "code",
   "source": [
    "recall=true_positives/(false_negatives+true_positives)\n",
    "print(recall*100)\n"
   ],
   "id": "b491240e41360424",
   "outputs": [
    {
     "name": "stdout",
     "output_type": "stream",
     "text": [
      "100.0\n"
     ]
    }
   ],
   "execution_count": 6
  },
  {
   "metadata": {
    "ExecuteTime": {
     "end_time": "2025-03-07T08:09:35.271896Z",
     "start_time": "2025-03-07T08:09:35.267136Z"
    }
   },
   "cell_type": "code",
   "source": [
    "precision=true_positives/(false_positives+true_positives)\n",
    "print(precision*100)"
   ],
   "id": "baa605f850d44ca",
   "outputs": [
    {
     "name": "stdout",
     "output_type": "stream",
     "text": [
      "83.33333333333334\n"
     ]
    }
   ],
   "execution_count": 7
  },
  {
   "metadata": {
    "ExecuteTime": {
     "end_time": "2025-03-07T08:37:21.847289Z",
     "start_time": "2025-03-07T08:37:21.842288Z"
    }
   },
   "cell_type": "code",
   "source": [
    "\n",
    "thresholds=[0.3, 0.5, 0.7]\n",
    "def give():\n",
    "    for _ in thresholds:\n",
    "        yield(_)\n",
    "        \n",
    "for value in give():\n",
    "    predictions=[1 if prob > value else 0 for prob in probabilities]\n",
    "    print(predictions)\n",
    "        \n",
    "    \n",
    "    \n",
    "    \n",
    "    \n",
    "    \n",
    "    \n",
    "    \n",
    "         \n",
    "\n",
    "\n",
    "\n",
    "\n"
   ],
   "id": "6b615cae97b8cf55",
   "outputs": [
    {
     "name": "stdout",
     "output_type": "stream",
     "text": [
      "[1, 0, 1, 0, 1, 1, 1, 0, 1, 0]\n",
      "[1, 0, 1, 0, 1, 1, 1, 0, 1, 0]\n",
      "[1, 0, 1, 0, 0, 0, 1, 0, 0, 0]\n"
     ]
    }
   ],
   "execution_count": 47
  },
  {
   "metadata": {
    "ExecuteTime": {
     "end_time": "2025-03-07T08:42:51.441645Z",
     "start_time": "2025-03-07T08:42:51.433261Z"
    }
   },
   "cell_type": "code",
   "source": [
    "\n",
    "thresholds=[0.3, 0.5, 0.7]\n",
    "def give():\n",
    "    for _ in thresholds:\n",
    "        return \n",
    "        "
   ],
   "id": "5352fb4891fbb383",
   "outputs": [
    {
     "ename": "SyntaxError",
     "evalue": "invalid syntax (345160872.py, line 4)",
     "output_type": "error",
     "traceback": [
      "\u001B[1;36m  Cell \u001B[1;32mIn[48], line 4\u001B[1;36m\u001B[0m\n\u001B[1;33m    print(yield(_))\u001B[0m\n\u001B[1;37m          ^\u001B[0m\n\u001B[1;31mSyntaxError\u001B[0m\u001B[1;31m:\u001B[0m invalid syntax\n"
     ]
    }
   ],
   "execution_count": 48
  }
 ],
 "metadata": {
  "kernelspec": {
   "display_name": "Python 3",
   "language": "python",
   "name": "python3"
  },
  "language_info": {
   "codemirror_mode": {
    "name": "ipython",
    "version": 2
   },
   "file_extension": ".py",
   "mimetype": "text/x-python",
   "name": "python",
   "nbconvert_exporter": "python",
   "pygments_lexer": "ipython2",
   "version": "2.7.6"
  }
 },
 "nbformat": 4,
 "nbformat_minor": 5
}
