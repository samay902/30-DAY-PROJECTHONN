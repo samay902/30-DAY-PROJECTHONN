{
 "cells": [
  {
   "cell_type": "code",
   "id": "initial_id",
   "metadata": {
    "collapsed": true,
    "ExecuteTime": {
     "end_time": "2025-03-01T09:45:11.243883Z",
     "start_time": "2025-03-01T09:45:10.489392Z"
    }
   },
   "source": [
    "import numpy as np\n",
    "from PIL import Image\n",
    "import matplotlib.pyplot as plt\n",
    "\n",
    "\n",
    "\n"
   ],
   "outputs": [],
   "execution_count": 2
  },
  {
   "metadata": {},
   "cell_type": "markdown",
   "source": "",
   "id": "9136d5bf07835967"
  },
  {
   "metadata": {
    "ExecuteTime": {
     "end_time": "2025-03-01T09:45:11.251892Z",
     "start_time": "2025-03-01T09:45:11.244888Z"
    }
   },
   "cell_type": "code",
   "source": [
    "def image_toarray(path):\n",
    "\n",
    "    try:\n",
    "        img = Image.open(path).convert(\"L\")\n",
    "        img = img.resize((28, 28))\n",
    "        digit_array = np.array(img)\n",
    "      \n",
    "        return digit_array\n",
    "    except FileNotFoundError:\n",
    "        \n",
    "        print(\"shit's fucked up\")\n",
    "    except Exception as e:\n",
    "        print(\"something's fucked up:\", e)\n"
   ],
   "id": "529a07322b9fbe37",
   "outputs": [],
   "execution_count": 3
  },
  {
   "metadata": {
    "ExecuteTime": {
     "end_time": "2025-03-01T09:45:11.259139Z",
     "start_time": "2025-03-01T09:45:11.254354Z"
    }
   },
   "cell_type": "code",
   "source": [
    "def make_my_image(img_data):\n",
    "    plt.imshow(img_data, cmap=\"binary\")\n",
    "    plt.axis(\"off\")  # Removes axes for better visualization\n",
    "    plt.show(block=\"True\")\n"
   ],
   "id": "34bba14f9eabe4aa",
   "outputs": [],
   "execution_count": 4
  },
  {
   "metadata": {},
   "cell_type": "markdown",
   "source": "",
   "id": "391ebbd920ba58ac"
  },
  {
   "metadata": {
    "ExecuteTime": {
     "end_time": "2025-03-01T09:45:11.266589Z",
     "start_time": "2025-03-01T09:45:11.261581Z"
    }
   },
   "cell_type": "code",
   "source": [
    "paths = r\"G:\\elephant.png\"\n",
    "data = image_toarray(paths)\n",
    "if data is not None:  # Fix incorrect condition check\n",
    "    make_my_image(data)"
   ],
   "id": "9050894d1e13cfe4",
   "outputs": [
    {
     "name": "stdout",
     "output_type": "stream",
     "text": [
      "shit's fucked up\n"
     ]
    }
   ],
   "execution_count": 5
  },
  {
   "metadata": {
    "ExecuteTime": {
     "end_time": "2025-03-01T09:45:15.089517Z",
     "start_time": "2025-03-01T09:45:11.268915Z"
    }
   },
   "cell_type": "code",
   "source": [
    "from sklearn.datasets import fetch_openml\n",
    "from sklearn.linear_model import SGDClassifier\n",
    "dataa=fetch_openml(\"mnist_784\",as_frame=False)\n",
    "\n",
    "classifier=SGDClassifier(random_state=42)\n",
    "x,y=dataa.data,dataa.target\n",
    "\n",
    "def plot(numbo):\n",
    "    img=numbo.reshape((28,28))\n",
    "    plt.imshow(img,cmap=\"binary\")\n",
    "    plt.show()\n",
    "    \n",
    "some_digit=x[0]    \n",
    "pict=plot(some_digit)\n",
    "\n",
    "\n"
   ],
   "id": "8703042eff59c375",
   "outputs": [
    {
     "data": {
      "text/plain": [
       "<Figure size 640x480 with 1 Axes>"
      ],
      "image/png": "[encoded data removed]"
     },
     "metadata": {},
     "output_type": "display_data"
    }
   ],
   "execution_count": 6
  },
  {
   "metadata": {
    "ExecuteTime": {
     "end_time": "2025-03-01T09:45:27.842524Z",
     "start_time": "2025-03-01T09:45:15.089517Z"
    }
   },
   "cell_type": "code",
   "source": [
    "x_train,x_test,y_train,y_test=x[:60000],x[60000:],y[:60000],y[60000:]\n",
    "\n",
    "y_train_9=(y_train==\"5\")\n",
    "y_test_9=(y_train==\"5\")\n",
    "\n",
    "classifier.fit(x_train,y_train_9)\n",
    "classifier.predict([some_digit])"
   ],
   "id": "3e7a6862453802b6",
   "outputs": [
    {
     "data": {
      "text/plain": [
       "array([ True])"
      ]
     },
     "execution_count": 7,
     "metadata": {},
     "output_type": "execute_result"
    }
   ],
   "execution_count": 7
  },
  {
   "metadata": {
    "ExecuteTime": {
     "end_time": "2025-03-01T09:45:54.329250Z",
     "start_time": "2025-03-01T09:45:27.843030Z"
    }
   },
   "cell_type": "code",
   "source": [
    "from sklearn.model_selection import cross_val_score\n",
    "cvs=cross_val_score(classifier,x_train,y_train_9,cv=3,scoring=\"accuracy\")\n",
    "print(cvs)"
   ],
   "id": "44bf11c4db37264c",
   "outputs": [
    {
     "name": "stdout",
     "output_type": "stream",
     "text": [
      "[0.95035 0.96035 0.9604 ]\n"
     ]
    }
   ],
   "execution_count": 8
  },
  {
   "metadata": {
    "ExecuteTime": {
     "end_time": "2025-03-01T09:45:54.350038Z",
     "start_time": "2025-03-01T09:45:54.331266Z"
    }
   },
   "cell_type": "code",
   "source": [
    "from sklearn.dummy import DummyClassifier\n",
    "dummmyclass=DummyClassifier(strategy=\"most_frequent\")\n",
    "dummmyclass.fit(x_train,y_train_9)\n",
    "dummmyclass.predict([some_digit])"
   ],
   "id": "2d6c8cc304509d44",
   "outputs": [
    {
     "data": {
      "text/plain": [
       "array([False])"
      ]
     },
     "execution_count": 9,
     "metadata": {},
     "output_type": "execute_result"
    }
   ],
   "execution_count": 9
  },
  {
   "metadata": {
    "ExecuteTime": {
     "end_time": "2025-03-01T09:45:55.189223Z",
     "start_time": "2025-03-01T09:45:54.352043Z"
    }
   },
   "cell_type": "code",
   "source": [
    "cvss=cross_val_score(dummmyclass,x_train,y_train_9,cv=3,scoring=\"accuracy\")\n",
    "print(cvss)"
   ],
   "id": "d01166b8d3988af6",
   "outputs": [
    {
     "name": "stdout",
     "output_type": "stream",
     "text": [
      "[0.90965 0.90965 0.90965]\n"
     ]
    }
   ],
   "execution_count": 10
  },
  {
   "metadata": {
    "ExecuteTime": {
     "end_time": "2025-03-01T09:46:18.639373Z",
     "start_time": "2025-03-01T09:45:55.191340Z"
    }
   },
   "cell_type": "code",
   "source": [
    "from sklearn.base import clone\n",
    "from sklearn.model_selection import StratifiedKFold\n",
    "import numpy as np\n",
    "skfolds=StratifiedKFold(n_splits=3)\n",
    "\n",
    "for train_index,test_index in skfolds.split(x_train,y_train_9):\n",
    "    clone_model=clone(classifier)\n",
    "    x_train_folds=x_train[train_index]\n",
    "    x_test_folds=x_train[test_index]\n",
    "    y_train_folds=y_train_9[train_index]\n",
    "    y_test_folds=y_train_9[test_index]\n",
    "    \n",
    "    \n",
    "    clone_model.fit(x_train_folds,y_train_folds)\n",
    "    y_pred=clone_model.predict(x_test_folds)\n",
    "    cor_pred=np.sum(y_pred== y_test_folds).astype(\"int\")\n",
    "    cv=cor_pred/len(y_pred)\n",
    "    print(cv)\n",
    "    \n",
    "    "
   ],
   "id": "feb4df63653bad2e",
   "outputs": [
    {
     "name": "stdout",
     "output_type": "stream",
     "text": [
      "0.95035\n",
      "0.96035\n",
      "0.9604\n"
     ]
    }
   ],
   "execution_count": 11
  },
  {
   "metadata": {
    "ExecuteTime": {
     "end_time": "2025-03-01T09:46:37.505288Z",
     "start_time": "2025-03-01T09:46:18.640387Z"
    }
   },
   "cell_type": "code",
   "source": [
    "from sklearn.model_selection import cross_val_predict\n",
    "y_train_pred=cross_val_predict(classifier,x_train,y_train_9,cv=3)\n"
   ],
   "id": "99d53d5788f3ac5b",
   "outputs": [],
   "execution_count": 12
  },
  {
   "metadata": {
    "ExecuteTime": {
     "end_time": "2025-03-01T09:46:37.523237Z",
     "start_time": "2025-03-01T09:46:37.506310Z"
    }
   },
   "cell_type": "code",
   "source": [
    "from sklearn.metrics import confusion_matrix\n",
    "cm=confusion_matrix(y_train_9,y_train_pred)\n"
   ],
   "id": "a26267e1af8618ca",
   "outputs": [],
   "execution_count": 13
  },
  {
   "metadata": {
    "ExecuteTime": {
     "end_time": "2025-03-01T09:46:37.526334Z",
     "start_time": "2025-03-01T09:46:37.523237Z"
    }
   },
   "cell_type": "code",
   "source": [
    "from sklearn.metrics import precision_score,recall_score\n",
    "print(precision_score())\n",
    "print(precision_score(y))"
   ],
   "id": "21ebacdcf6580e23",
   "outputs": [],
   "execution_count": 13
  }
 ],
 "metadata": {
  "kernelspec": {
   "display_name": "Python 3",
   "language": "python",
   "name": "python3"
  },
  "language_info": {
   "codemirror_mode": {
    "name": "ipython",
    "version": 2
   },
   "file_extension": ".py",
   "mimetype": "text/x-python",
   "name": "python",
   "nbconvert_exporter": "python",
   "pygments_lexer": "ipython2",
   "version": "2.7.6"
  }
 },
 "nbformat": 4,
 "nbformat_minor": 5
}
