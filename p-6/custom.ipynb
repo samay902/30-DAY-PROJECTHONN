{
 "cells": [
  {
   "cell_type": "code",
   "id": "initial_id",
   "metadata": {
    "collapsed": true,
    "ExecuteTime": {
     "end_time": "2025-02-27T05:53:27.326120Z",
     "start_time": "2025-02-27T05:53:26.802419Z"
    }
   },
   "source": [
    "import numpy as np\n",
    "from PIL import Image\n",
    "import matplotlib.pyplot as plt\n",
    "\n",
    "\n",
    "\n"
   ],
   "outputs": [],
   "execution_count": 1
  },
  {
   "metadata": {},
   "cell_type": "markdown",
   "source": "",
   "id": "9136d5bf07835967"
  },
  {
   "metadata": {
    "ExecuteTime": {
     "end_time": "2025-02-27T06:00:48.566325Z",
     "start_time": "2025-02-27T06:00:48.562326Z"
    }
   },
   "cell_type": "code",
   "source": [
    "def image_toarray(path):\n",
    "\n",
    "    try:\n",
    "        img = Image.open(path).convert(\"L\")\n",
    "        img = img.resize((28, 28))\n",
    "        digit_array = np.array(img)\n",
    "      \n",
    "        return digit_array\n",
    "    except FileNotFoundError:\n",
    "        \n",
    "        print(\"shit's fucked up\")\n",
    "    except Exception as e:\n",
    "        print(\"something's fucked up:\", e)\n"
   ],
   "id": "529a07322b9fbe37",
   "outputs": [],
   "execution_count": 27
  },
  {
   "metadata": {
    "ExecuteTime": {
     "end_time": "2025-02-27T06:01:57.423171Z",
     "start_time": "2025-02-27T06:01:57.417874Z"
    }
   },
   "cell_type": "code",
   "source": [
    "def make_my_image(img_data):\n",
    "    plt.imshow(img_data, cmap=\"binary\")\n",
    "    plt.axis(\"off\")  # Removes axes for better visualization\n",
    "    plt.show(block=\"True\")\n"
   ],
   "id": "34bba14f9eabe4aa",
   "outputs": [],
   "execution_count": 34
  },
  {
   "metadata": {},
   "cell_type": "markdown",
   "source": "",
   "id": "391ebbd920ba58ac"
  },
  {
   "metadata": {
    "ExecuteTime": {
     "end_time": "2025-02-27T16:06:54.682672Z",
     "start_time": "2025-02-27T16:06:54.609516Z"
    }
   },
   "cell_type": "code",
   "source": [
    "paths = r\"G:\\elephant.png\"\n",
    "data = image_toarray(paths)\n",
    "if data is not None:  # Fix incorrect condition check\n",
    "    make_my_image(data)"
   ],
   "id": "9050894d1e13cfe4",
   "outputs": [
    {
     "data": {
      "text/plain": [
       "<Figure size 640x480 with 1 Axes>"
      ],
      "image/png": "[encoded data removed]"
     },
     "metadata": {},
     "output_type": "display_data"
    }
   ],
   "execution_count": 80
  },
  {
   "metadata": {},
   "cell_type": "code",
   "outputs": [],
   "execution_count": null,
   "source": [
    "from sklearn.linear_model import SGDClassifier\n",
    "from sklearn.datasets import fetch_openml\n",
    "\n",
    "\n",
    "\n",
    "\n",
    "\n",
    "\n",
    "\n",
    "\n",
    "\n"
   ],
   "id": "eaf1cd14bc67018a"
  },
  {
   "metadata": {
    "ExecuteTime": {
     "end_time": "2025-02-27T14:10:46.105767Z",
     "start_time": "2025-02-27T14:10:42.857992Z"
    }
   },
   "cell_type": "code",
   "source": [
    "data=fetch_openml(\"mnist_784\",as_frame=True)\n",
    "\n",
    "\n",
    "classifier=SGDClassifier()\n",
    "x,y=data.data,data.target\n",
    "digit=x[0]\n",
    "x_train=x[:60000]\n",
    "y_train,y_test=y[:60000],y[60000:]\n",
    "y_test_5 = (y_test==5)"
   ],
   "id": "f6806534edadab4f",
   "outputs": [
    {
     "ename": "KeyError",
     "evalue": "0",
     "output_type": "error",
     "traceback": [
      "\u001B[1;31m---------------------------------------------------------------------------\u001B[0m",
      "\u001B[1;31mKeyError\u001B[0m                                  Traceback (most recent call last)",
      "File \u001B[1;32m~\\AppData\\Local\\Programs\\Python\\Python312\\Lib\\site-packages\\pandas\\core\\indexes\\base.py:3805\u001B[0m, in \u001B[0;36mIndex.get_loc\u001B[1;34m(self, key)\u001B[0m\n\u001B[0;32m   3804\u001B[0m \u001B[38;5;28;01mtry\u001B[39;00m:\n\u001B[1;32m-> 3805\u001B[0m     \u001B[38;5;28;01mreturn\u001B[39;00m \u001B[38;5;28;43mself\u001B[39;49m\u001B[38;5;241;43m.\u001B[39;49m\u001B[43m_engine\u001B[49m\u001B[38;5;241;43m.\u001B[39;49m\u001B[43mget_loc\u001B[49m\u001B[43m(\u001B[49m\u001B[43mcasted_key\u001B[49m\u001B[43m)\u001B[49m\n\u001B[0;32m   3806\u001B[0m \u001B[38;5;28;01mexcept\u001B[39;00m \u001B[38;5;167;01mKeyError\u001B[39;00m \u001B[38;5;28;01mas\u001B[39;00m err:\n",
      "File \u001B[1;32mindex.pyx:167\u001B[0m, in \u001B[0;36mpandas._libs.index.IndexEngine.get_loc\u001B[1;34m()\u001B[0m\n",
      "File \u001B[1;32mindex.pyx:196\u001B[0m, in \u001B[0;36mpandas._libs.index.IndexEngine.get_loc\u001B[1;34m()\u001B[0m\n",
      "File \u001B[1;32mpandas\\\\_libs\\\\hashtable_class_helper.pxi:7081\u001B[0m, in \u001B[0;36mpandas._libs.hashtable.PyObjectHashTable.get_item\u001B[1;34m()\u001B[0m\n",
      "File \u001B[1;32mpandas\\\\_libs\\\\hashtable_class_helper.pxi:7089\u001B[0m, in \u001B[0;36mpandas._libs.hashtable.PyObjectHashTable.get_item\u001B[1;34m()\u001B[0m\n",
      "\u001B[1;31mKeyError\u001B[0m: 0",
      "\nThe above exception was the direct cause of the following exception:\n",
      "\u001B[1;31mKeyError\u001B[0m                                  Traceback (most recent call last)",
      "Cell \u001B[1;32mIn[59], line 6\u001B[0m\n\u001B[0;32m      4\u001B[0m classifier\u001B[38;5;241m=\u001B[39mSGDClassifier()\n\u001B[0;32m      5\u001B[0m x,y\u001B[38;5;241m=\u001B[39mdata\u001B[38;5;241m.\u001B[39mdata,data\u001B[38;5;241m.\u001B[39mtarget\n\u001B[1;32m----> 6\u001B[0m digit\u001B[38;5;241m=\u001B[39m\u001B[43mx\u001B[49m\u001B[43m[\u001B[49m\u001B[38;5;241;43m0\u001B[39;49m\u001B[43m]\u001B[49m\n\u001B[0;32m      7\u001B[0m x_train\u001B[38;5;241m=\u001B[39mx[:\u001B[38;5;241m60000\u001B[39m]\n\u001B[0;32m      8\u001B[0m y_train,y_test\u001B[38;5;241m=\u001B[39my[:\u001B[38;5;241m60000\u001B[39m],y[\u001B[38;5;241m60000\u001B[39m:]\n",
      "File \u001B[1;32m~\\AppData\\Local\\Programs\\Python\\Python312\\Lib\\site-packages\\pandas\\core\\frame.py:4102\u001B[0m, in \u001B[0;36mDataFrame.__getitem__\u001B[1;34m(self, key)\u001B[0m\n\u001B[0;32m   4100\u001B[0m \u001B[38;5;28;01mif\u001B[39;00m \u001B[38;5;28mself\u001B[39m\u001B[38;5;241m.\u001B[39mcolumns\u001B[38;5;241m.\u001B[39mnlevels \u001B[38;5;241m>\u001B[39m \u001B[38;5;241m1\u001B[39m:\n\u001B[0;32m   4101\u001B[0m     \u001B[38;5;28;01mreturn\u001B[39;00m \u001B[38;5;28mself\u001B[39m\u001B[38;5;241m.\u001B[39m_getitem_multilevel(key)\n\u001B[1;32m-> 4102\u001B[0m indexer \u001B[38;5;241m=\u001B[39m \u001B[38;5;28;43mself\u001B[39;49m\u001B[38;5;241;43m.\u001B[39;49m\u001B[43mcolumns\u001B[49m\u001B[38;5;241;43m.\u001B[39;49m\u001B[43mget_loc\u001B[49m\u001B[43m(\u001B[49m\u001B[43mkey\u001B[49m\u001B[43m)\u001B[49m\n\u001B[0;32m   4103\u001B[0m \u001B[38;5;28;01mif\u001B[39;00m is_integer(indexer):\n\u001B[0;32m   4104\u001B[0m     indexer \u001B[38;5;241m=\u001B[39m [indexer]\n",
      "File \u001B[1;32m~\\AppData\\Local\\Programs\\Python\\Python312\\Lib\\site-packages\\pandas\\core\\indexes\\base.py:3812\u001B[0m, in \u001B[0;36mIndex.get_loc\u001B[1;34m(self, key)\u001B[0m\n\u001B[0;32m   3807\u001B[0m     \u001B[38;5;28;01mif\u001B[39;00m \u001B[38;5;28misinstance\u001B[39m(casted_key, \u001B[38;5;28mslice\u001B[39m) \u001B[38;5;129;01mor\u001B[39;00m (\n\u001B[0;32m   3808\u001B[0m         \u001B[38;5;28misinstance\u001B[39m(casted_key, abc\u001B[38;5;241m.\u001B[39mIterable)\n\u001B[0;32m   3809\u001B[0m         \u001B[38;5;129;01mand\u001B[39;00m \u001B[38;5;28many\u001B[39m(\u001B[38;5;28misinstance\u001B[39m(x, \u001B[38;5;28mslice\u001B[39m) \u001B[38;5;28;01mfor\u001B[39;00m x \u001B[38;5;129;01min\u001B[39;00m casted_key)\n\u001B[0;32m   3810\u001B[0m     ):\n\u001B[0;32m   3811\u001B[0m         \u001B[38;5;28;01mraise\u001B[39;00m InvalidIndexError(key)\n\u001B[1;32m-> 3812\u001B[0m     \u001B[38;5;28;01mraise\u001B[39;00m \u001B[38;5;167;01mKeyError\u001B[39;00m(key) \u001B[38;5;28;01mfrom\u001B[39;00m\u001B[38;5;250m \u001B[39m\u001B[38;5;21;01merr\u001B[39;00m\n\u001B[0;32m   3813\u001B[0m \u001B[38;5;28;01mexcept\u001B[39;00m \u001B[38;5;167;01mTypeError\u001B[39;00m:\n\u001B[0;32m   3814\u001B[0m     \u001B[38;5;66;03m# If we have a listlike key, _check_indexing_error will raise\u001B[39;00m\n\u001B[0;32m   3815\u001B[0m     \u001B[38;5;66;03m#  InvalidIndexError. Otherwise we fall through and re-raise\u001B[39;00m\n\u001B[0;32m   3816\u001B[0m     \u001B[38;5;66;03m#  the TypeError.\u001B[39;00m\n\u001B[0;32m   3817\u001B[0m     \u001B[38;5;28mself\u001B[39m\u001B[38;5;241m.\u001B[39m_check_indexing_error(key)\n",
      "\u001B[1;31mKeyError\u001B[0m: 0"
     ]
    }
   ],
   "execution_count": 59
  },
  {
   "metadata": {
    "ExecuteTime": {
     "end_time": "2025-02-27T14:10:41.135687Z",
     "start_time": "2025-02-27T14:10:41.121351Z"
    }
   },
   "cell_type": "code",
   "source": [
    "classifier.fit(x_train,y_test_5)\n",
    "classifier.predict(digit)\n"
   ],
   "id": "813e4c44f600a4aa",
   "outputs": [
    {
     "ename": "NameError",
     "evalue": "name 'y_test_5' is not defined",
     "output_type": "error",
     "traceback": [
      "\u001B[1;31m---------------------------------------------------------------------------\u001B[0m",
      "\u001B[1;31mNameError\u001B[0m                                 Traceback (most recent call last)",
      "Cell \u001B[1;32mIn[58], line 1\u001B[0m\n\u001B[1;32m----> 1\u001B[0m classifier\u001B[38;5;241m.\u001B[39mfit(x_train,\u001B[43my_test_5\u001B[49m)\n\u001B[0;32m      2\u001B[0m classifier\u001B[38;5;241m.\u001B[39mpredict(digit)\n",
      "\u001B[1;31mNameError\u001B[0m: name 'y_test_5' is not defined"
     ]
    }
   ],
   "execution_count": 58
  },
  {
   "metadata": {
    "ExecuteTime": {
     "end_time": "2025-02-27T14:15:57.282320Z",
     "start_time": "2025-02-27T14:15:54.063034Z"
    }
   },
   "cell_type": "code",
   "source": [
    "from sklearn.datasets import fetch_openml\n",
    "from sklearn.linear_model import SGDClassifier\n",
    "dataa=fetch_openml(\"mnist_784\",as_frame=False)\n",
    "\n",
    "classifier=SGDClassifier(random_state=42)\n",
    "x,y=dataa.data,dataa.target\n",
    "\n",
    "def plot(numbo):\n",
    "    img=numbo.reshape((28,28))\n",
    "    plt.imshow(img,cmap=\"binary\")\n",
    "    plt.show()\n",
    "    \n",
    "some_digit=x[0]    \n",
    "pict=plot(some_digit)\n",
    "\n",
    "\n"
   ],
   "id": "8703042eff59c375",
   "outputs": [
    {
     "data": {
      "text/plain": [
       "<Figure size 640x480 with 1 Axes>"
      ],
      "image/png": "[encoded data removed]"
     },
     "metadata": {},
     "output_type": "display_data"
    }
   ],
   "execution_count": 67
  },
  {
   "metadata": {
    "ExecuteTime": {
     "end_time": "2025-02-27T14:17:03.465536Z",
     "start_time": "2025-02-27T14:16:52.633198Z"
    }
   },
   "cell_type": "code",
   "source": [
    "x_train,x_test,y_train,y_test=x[:60000],x[60000:],y[:60000],y[60000:]\n",
    "\n",
    "y_train_9=(y_train==\"5\")\n",
    "y_test_9=(y_train==\"5\")\n",
    "\n",
    "classifier.fit(x_train,y_train_9)\n",
    "classifier.predict([some_digit])"
   ],
   "id": "3e7a6862453802b6",
   "outputs": [
    {
     "data": {
      "text/plain": [
       "array([ True])"
      ]
     },
     "execution_count": 68,
     "metadata": {},
     "output_type": "execute_result"
    }
   ],
   "execution_count": 68
  },
  {
   "metadata": {
    "ExecuteTime": {
     "end_time": "2025-02-27T14:56:50.308759Z",
     "start_time": "2025-02-27T14:56:29.272837Z"
    }
   },
   "cell_type": "code",
   "source": [
    "from sklearn.model_selection import cross_val_score\n",
    "cvs=cross_val_score(classifier,x_train,y_train_9,cv=3,scoring=\"accuracy\")\n",
    "print(cvs)"
   ],
   "id": "44bf11c4db37264c",
   "outputs": [
    {
     "name": "stdout",
     "output_type": "stream",
     "text": [
      "[0.9632 0.9552 0.965 ]\n"
     ]
    }
   ],
   "execution_count": 71
  },
  {
   "metadata": {
    "ExecuteTime": {
     "end_time": "2025-02-27T15:05:54.141029Z",
     "start_time": "2025-02-27T15:05:54.131166Z"
    }
   },
   "cell_type": "code",
   "source": [
    "from sklearn.dummy import DummyClassifier\n",
    "dummmyclass=DummyClassifier(strategy=\"most_frequent\")\n",
    "dummmyclass.fit(x_train,y_train_9)\n",
    "dummmyclass.predict([some_digit])"
   ],
   "id": "2d6c8cc304509d44",
   "outputs": [
    {
     "data": {
      "text/plain": [
       "array([False])"
      ]
     },
     "execution_count": 72,
     "metadata": {},
     "output_type": "execute_result"
    }
   ],
   "execution_count": 72
  },
  {
   "metadata": {
    "ExecuteTime": {
     "end_time": "2025-02-27T15:08:28.366378Z",
     "start_time": "2025-02-27T15:08:27.616057Z"
    }
   },
   "cell_type": "code",
   "source": [
    "cvss=cross_val_score(dummmyclass,x_train,y_train_9,cv=3,scoring=\"accuracy\")\n",
    "print(cvss)"
   ],
   "id": "d01166b8d3988af6",
   "outputs": [
    {
     "name": "stdout",
     "output_type": "stream",
     "text": [
      "[0.90965 0.90965 0.90965]\n"
     ]
    }
   ],
   "execution_count": 74
  },
  {
   "metadata": {
    "ExecuteTime": {
     "end_time": "2025-02-27T15:53:14.006323Z",
     "start_time": "2025-02-27T15:52:57.955948Z"
    }
   },
   "cell_type": "code",
   "source": [
    "from sklearn.base import clone\n",
    "from sklearn.model_selection import StratifiedKFold\n",
    "import numpy as np\n",
    "skfolds=StratifiedKFold(n_splits=3)\n",
    "\n",
    "for train_index,test_index in skfolds.split(x_train,y_train_9):\n",
    "    clone_model=clone(classifier)\n",
    "    x_train_folds=x_train[train_index]\n",
    "    x_test_folds=x_train[test_index]\n",
    "    y_train_folds=y_train_9[train_index]\n",
    "    y_test_folds=y_train_9[test_index]\n",
    "    \n",
    "    \n",
    "    clone_model.fit(x_train_folds,y_train_folds)\n",
    "    y_pred=clone_model.predict(x_test_folds)\n",
    "    cor_pred=np.sum(y_pred== y_test_folds).astype(\"int\")\n",
    "    cv=cor_pred/len(y_pred)\n",
    "    print(cv)\n",
    "    \n",
    "    "
   ],
   "id": "feb4df63653bad2e",
   "outputs": [
    {
     "name": "stdout",
     "output_type": "stream",
     "text": [
      "0.9635\n",
      "0.9611\n",
      "0.96395\n"
     ]
    }
   ],
   "execution_count": 77
  }
 ],
 "metadata": {
  "kernelspec": {
   "display_name": "Python 3",
   "language": "python",
   "name": "python3"
  },
  "language_info": {
   "codemirror_mode": {
    "name": "ipython",
    "version": 2
   },
   "file_extension": ".py",
   "mimetype": "text/x-python",
   "name": "python",
   "nbconvert_exporter": "python",
   "pygments_lexer": "ipython2",
   "version": "2.7.6"
  }
 },
 "nbformat": 4,
 "nbformat_minor": 5
}
