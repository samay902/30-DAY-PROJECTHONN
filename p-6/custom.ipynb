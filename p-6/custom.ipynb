{
 "cells": [
  {
   "cell_type": "code",
   "id": "initial_id",
   "metadata": {
    "collapsed": true,
    "ExecuteTime": {
     "end_time": "2025-03-03T15:24:49.097972Z",
     "start_time": "2025-03-03T15:24:49.093335Z"
    }
   },
   "source": [
    "import numpy as np\n",
    "from PIL import Image\n",
    "import matplotlib.pyplot as plt\n",
    "\n",
    "\n",
    "\n"
   ],
   "outputs": [],
   "execution_count": 20
  },
  {
   "metadata": {},
   "cell_type": "markdown",
   "source": "",
   "id": "9136d5bf07835967"
  },
  {
   "metadata": {
    "ExecuteTime": {
     "end_time": "2025-03-03T15:24:49.152197Z",
     "start_time": "2025-03-03T15:24:49.141299Z"
    }
   },
   "cell_type": "code",
   "source": [
    "def image_toarray(path):\n",
    "\n",
    "    try:\n",
    "        img = Image.open(path).convert(\"L\")\n",
    "        img = img.resize((28, 28))\n",
    "        digit_array = np.array(img)\n",
    "      \n",
    "        return digit_array\n",
    "    except FileNotFoundError:\n",
    "        \n",
    "        print(\"shit's fucked up\")\n",
    "    except Exception as e:\n",
    "        print(\"something's fucked up:\", e)\n"
   ],
   "id": "529a07322b9fbe37",
   "outputs": [],
   "execution_count": 21
  },
  {
   "metadata": {
    "ExecuteTime": {
     "end_time": "2025-03-03T15:24:49.163430Z",
     "start_time": "2025-03-03T15:24:49.156214Z"
    }
   },
   "cell_type": "code",
   "source": [
    "def make_my_image(img_data):\n",
    "    plt.imshow(img_data, cmap=\"binary\")\n",
    "    plt.axis(\"off\")  # Removes axes for better visualization\n",
    "    plt.show(block=\"True\")\n"
   ],
   "id": "34bba14f9eabe4aa",
   "outputs": [],
   "execution_count": 22
  },
  {
   "metadata": {},
   "cell_type": "markdown",
   "source": "",
   "id": "391ebbd920ba58ac"
  },
  {
   "metadata": {
    "ExecuteTime": {
     "end_time": "2025-03-03T15:24:49.176742Z",
     "start_time": "2025-03-03T15:24:49.167441Z"
    }
   },
   "cell_type": "code",
   "source": [
    "paths = r\"G:\\elephant.png\"\n",
    "data = image_toarray(paths)\n",
    "if data is not None:  # Fix incorrect condition check\n",
    "    make_my_image(data)"
   ],
   "id": "9050894d1e13cfe4",
   "outputs": [
    {
     "name": "stdout",
     "output_type": "stream",
     "text": [
      "shit's fucked up\n"
     ]
    }
   ],
   "execution_count": 23
  },
  {
   "metadata": {
    "ExecuteTime": {
     "end_time": "2025-03-03T15:24:53.000797Z",
     "start_time": "2025-03-03T15:24:49.178780Z"
    }
   },
   "cell_type": "code",
   "source": [
    "from sklearn.datasets import fetch_openml\n",
    "from sklearn.linear_model import SGDClassifier\n",
    "dataa=fetch_openml(\"mnist_784\",as_frame=False)\n",
    "\n",
    "classifier=SGDClassifier(random_state=42)\n",
    "x,y=dataa.data,dataa.target\n",
    "\n",
    "def plot(numbo):\n",
    "    img=numbo.reshape((28,28))\n",
    "    plt.imshow(img,cmap=\"binary\")\n",
    "    plt.show()\n",
    "    \n",
    "some_digit=x[0]    \n",
    "pict=plot(some_digit)\n",
    "\n",
    "\n"
   ],
   "id": "8703042eff59c375",
   "outputs": [
    {
     "data": {
      "text/plain": [
       "<Figure size 640x480 with 1 Axes>"
      ],
      "image/png": "[encoded data removed]"
     },
     "metadata": {},
     "output_type": "display_data"
    }
   ],
   "execution_count": 24
  },
  {
   "metadata": {
    "ExecuteTime": {
     "end_time": "2025-03-03T15:25:04.959938Z",
     "start_time": "2025-03-03T15:24:53.002603Z"
    }
   },
   "cell_type": "code",
   "source": [
    "x_train,x_test,y_train,y_test=x[:60000],x[60000:],y[:60000],y[60000:]\n",
    "\n",
    "y_train_9=(y_train==\"5\")\n",
    "y_test_9=(y_train==\"5\")\n",
    "\n",
    "classifier.fit(x_train,y_train_9)\n",
    "classifier.predict([some_digit])"
   ],
   "id": "3e7a6862453802b6",
   "outputs": [
    {
     "data": {
      "text/plain": [
       "array([ True])"
      ]
     },
     "execution_count": 25,
     "metadata": {},
     "output_type": "execute_result"
    }
   ],
   "execution_count": 25
  },
  {
   "metadata": {
    "ExecuteTime": {
     "end_time": "2025-03-03T15:25:21.355316Z",
     "start_time": "2025-03-03T15:25:04.961296Z"
    }
   },
   "cell_type": "code",
   "source": [
    "from sklearn.model_selection import cross_val_score\n",
    "cvs=cross_val_score(classifier,x_train,y_train_9,cv=3,scoring=\"accuracy\")\n",
    "print(cvs)"
   ],
   "id": "44bf11c4db37264c",
   "outputs": [
    {
     "name": "stdout",
     "output_type": "stream",
     "text": [
      "[0.95035 0.96035 0.9604 ]\n"
     ]
    }
   ],
   "execution_count": 26
  },
  {
   "metadata": {
    "ExecuteTime": {
     "end_time": "2025-03-03T15:25:21.364834Z",
     "start_time": "2025-03-03T15:25:21.356828Z"
    }
   },
   "cell_type": "code",
   "source": [
    "from sklearn.dummy import DummyClassifier\n",
    "dummmyclass=DummyClassifier(strategy=\"most_frequent\")\n",
    "dummmyclass.fit(x_train,y_train_9)\n",
    "dummmyclass.predict([some_digit])"
   ],
   "id": "2d6c8cc304509d44",
   "outputs": [
    {
     "data": {
      "text/plain": [
       "array([False])"
      ]
     },
     "execution_count": 27,
     "metadata": {},
     "output_type": "execute_result"
    }
   ],
   "execution_count": 27
  },
  {
   "metadata": {
    "ExecuteTime": {
     "end_time": "2025-03-03T15:25:21.971634Z",
     "start_time": "2025-03-03T15:25:21.367351Z"
    }
   },
   "cell_type": "code",
   "source": [
    "cvss=cross_val_score(dummmyclass,x_train,y_train_9,cv=3,scoring=\"accuracy\")\n",
    "print(cvss)"
   ],
   "id": "d01166b8d3988af6",
   "outputs": [
    {
     "name": "stdout",
     "output_type": "stream",
     "text": [
      "[0.90965 0.90965 0.90965]\n"
     ]
    }
   ],
   "execution_count": 28
  },
  {
   "metadata": {
    "ExecuteTime": {
     "end_time": "2025-03-03T15:25:37.966353Z",
     "start_time": "2025-03-03T15:25:21.972266Z"
    }
   },
   "cell_type": "code",
   "source": [
    "from sklearn.base import clone\n",
    "from sklearn.model_selection import StratifiedKFold\n",
    "import numpy as np\n",
    "skfolds=StratifiedKFold(n_splits=3)\n",
    "\n",
    "for train_index,test_index in skfolds.split(x_train,y_train_9):\n",
    "    clone_model=clone(classifier)\n",
    "    x_train_folds=x_train[train_index]\n",
    "    x_test_folds=x_train[test_index]\n",
    "    y_train_folds=y_train_9[train_index]\n",
    "    y_test_folds=y_train_9[test_index]\n",
    "    \n",
    "    \n",
    "    clone_model.fit(x_train_folds,y_train_folds)\n",
    "    y_pred=clone_model.predict(x_test_folds)\n",
    "    cor_pred=np.sum(y_pred== y_test_folds).astype(\"int\")\n",
    "    cv=cor_pred/len(y_pred)\n",
    "    print(cv)\n",
    "    \n",
    "    "
   ],
   "id": "feb4df63653bad2e",
   "outputs": [
    {
     "name": "stdout",
     "output_type": "stream",
     "text": [
      "0.95035\n",
      "0.96035\n",
      "0.9604\n"
     ]
    }
   ],
   "execution_count": 29
  },
  {
   "metadata": {
    "ExecuteTime": {
     "end_time": "2025-03-03T15:25:53.852272Z",
     "start_time": "2025-03-03T15:25:37.967357Z"
    }
   },
   "cell_type": "code",
   "source": [
    "from sklearn.model_selection import cross_val_predict\n",
    "y_train_pred=cross_val_predict(classifier,x_train,y_train_9,cv=3)\n",
    "print(y_train_pred)\n"
   ],
   "id": "99d53d5788f3ac5b",
   "outputs": [
    {
     "name": "stdout",
     "output_type": "stream",
     "text": [
      "[ True False False ...  True False False]\n"
     ]
    }
   ],
   "execution_count": 30
  },
  {
   "metadata": {
    "ExecuteTime": {
     "end_time": "2025-03-03T15:25:53.865092Z",
     "start_time": "2025-03-03T15:25:53.854285Z"
    }
   },
   "cell_type": "code",
   "source": [
    "from sklearn.metrics import confusion_matrix\n",
    "cm=confusion_matrix(y_train_9,y_train_pred)\n"
   ],
   "id": "a26267e1af8618ca",
   "outputs": [],
   "execution_count": 31
  },
  {
   "metadata": {
    "ExecuteTime": {
     "end_time": "2025-03-03T15:25:53.888484Z",
     "start_time": "2025-03-03T15:25:53.868620Z"
    }
   },
   "cell_type": "code",
   "source": [
    "from sklearn.metrics import precision_score,recall_score\n",
    "\n",
    "print(precision_score(y_train_9,y_train_pred))\n",
    "print(recall_score(y_train_9,y_train_pred))\n",
    "      "
   ],
   "id": "21ebacdcf6580e23",
   "outputs": [
    {
     "name": "stdout",
     "output_type": "stream",
     "text": [
      "0.8370879772350012\n",
      "0.6511713705958311\n"
     ]
    }
   ],
   "execution_count": 32
  },
  {
   "metadata": {
    "ExecuteTime": {
     "end_time": "2025-03-03T15:25:53.900822Z",
     "start_time": "2025-03-03T15:25:53.891104Z"
    }
   },
   "cell_type": "code",
   "source": [
    "from sklearn.metrics import f1_score\n",
    "f1sc=f1_score(y_train_9,y_train_pred)\n",
    "print(f1sc)"
   ],
   "id": "5ec7447f022b6917",
   "outputs": [
    {
     "name": "stdout",
     "output_type": "stream",
     "text": [
      "0.7325171197343847\n"
     ]
    }
   ],
   "execution_count": 33
  },
  {
   "metadata": {
    "ExecuteTime": {
     "end_time": "2025-03-03T15:25:53.906241Z",
     "start_time": "2025-03-03T15:25:53.902338Z"
    }
   },
   "cell_type": "code",
   "source": [
    "y_scores=classifier.decision_function([some_digit])\n",
    "print(y_scores)\n",
    "threshold=0\n",
    "y_some_digit=(y_scores>threshold)\n",
    "print(y_some_digit)\n"
   ],
   "id": "8fedcafd0c719ef7",
   "outputs": [
    {
     "name": "stdout",
     "output_type": "stream",
     "text": [
      "[2164.22030239]\n",
      "[ True]\n"
     ]
    }
   ],
   "execution_count": 34
  },
  {
   "metadata": {
    "ExecuteTime": {
     "end_time": "2025-03-03T15:25:53.912057Z",
     "start_time": "2025-03-03T15:25:53.907248Z"
    }
   },
   "cell_type": "code",
   "source": [
    "threshold=3000\n",
    "y_some_digit=(y_scores>threshold)\n",
    "print(y_some_digit)"
   ],
   "id": "ccf0f8bd4de37f3f",
   "outputs": [
    {
     "name": "stdout",
     "output_type": "stream",
     "text": [
      "[False]\n"
     ]
    }
   ],
   "execution_count": 35
  },
  {
   "metadata": {
    "ExecuteTime": {
     "end_time": "2025-03-03T16:10:55.409407Z",
     "start_time": "2025-03-03T16:10:34.801631Z"
    }
   },
   "cell_type": "code",
   "source": [
    "from sklearn.model_selection import cross_val_predict\n",
    "y_score=cross_val_predict(classifier,x_train,y_train_9,cv=3,method=\"decision_function\")\n",
    "y_real=y_score.flatten()\n",
    "print(y_real.shape)"
   ],
   "id": "e81a92f19049b333",
   "outputs": [
    {
     "name": "stdout",
     "output_type": "stream",
     "text": [
      "(60000,)\n"
     ]
    }
   ],
   "execution_count": 49
  },
  {
   "metadata": {},
   "cell_type": "code",
   "outputs": [],
   "execution_count": null,
   "source": "",
   "id": "20f3d01b39258dc"
  },
  {
   "metadata": {
    "ExecuteTime": {
     "end_time": "2025-03-03T16:11:09.203553Z",
     "start_time": "2025-03-03T16:11:09.190799Z"
    }
   },
   "cell_type": "code",
   "source": [
    "\n",
    "from sklearn.metrics import precision_recall_curve\n",
    "print(y_train_9.shape)\n",
    "precision,recall,thresholds=precision_recall_curve(y_train_9,y_real)"
   ],
   "id": "7926f36f684e340b",
   "outputs": [
    {
     "name": "stdout",
     "output_type": "stream",
     "text": [
      "(60000,)\n"
     ]
    }
   ],
   "execution_count": 51
  },
  {
   "metadata": {
    "ExecuteTime": {
     "end_time": "2025-03-03T16:11:43.676621Z",
     "start_time": "2025-03-03T16:11:43.606487Z"
    }
   },
   "cell_type": "code",
   "source": [
    "plt.plot(thresholds,precision[:-1],\"b--\",linewidth=2)\n",
    "plt.plot(thresholds,recall[:-1],linewidth=2)\n",
    "plt.vlines(threshold,0,1.0,\"k\",\"dotted\",label=\"threshold\")\n",
    "\n",
    "plt.show()"
   ],
   "id": "18aa987cf5c2e48a",
   "outputs": [
    {
     "data": {
      "text/plain": [
       "<Figure size 640x480 with 1 Axes>"
      ],
      "image/png": "[encoded data removed]"
     },
     "metadata": {},
     "output_type": "display_data"
    }
   ],
   "execution_count": 54
  },
  {
   "metadata": {
    "ExecuteTime": {
     "end_time": "2025-03-03T16:18:23.869029Z",
     "start_time": "2025-03-03T16:18:23.864017Z"
    }
   },
   "cell_type": "code",
   "source": [
    "idx_for_90_prec=(precision>=0.90).argmax()#gets the first true value \n",
    "\n",
    "threshold_lowest=thresholds[idx_for_90_prec]\n",
    "print(threshold_lowest)"
   ],
   "id": "a8f610773c928143",
   "outputs": [
    {
     "name": "stdout",
     "output_type": "stream",
     "text": [
      "3370.0194991439557\n"
     ]
    }
   ],
   "execution_count": 56
  },
  {
   "metadata": {
    "ExecuteTime": {
     "end_time": "2025-03-03T16:26:32.665898Z",
     "start_time": "2025-03-03T16:26:32.660507Z"
    }
   },
   "cell_type": "code",
   "source": [
    "y_train_pred_90=(y_score >= threshold_lowest)\n",
    "\n",
    "\n",
    "\n",
    "\n",
    "\n",
    "\n"
   ],
   "id": "a7f17838106212df",
   "outputs": [
    {
     "name": "stdout",
     "output_type": "stream",
     "text": [
      "[False False False ...  True False False]\n"
     ]
    }
   ],
   "execution_count": 64
  },
  {
   "metadata": {
    "ExecuteTime": {
     "end_time": "2025-03-03T16:39:57.766344Z",
     "start_time": "2025-03-03T16:39:57.752525Z"
    }
   },
   "cell_type": "code",
   "source": [
    "print(precision_score(y_train_9,y_train_pred_90))\n",
    "print(recall_score(y_train_9,y_train_pred_90))"
   ],
   "id": "70a2d93957309bae",
   "outputs": [
    {
     "name": "stdout",
     "output_type": "stream",
     "text": [
      "0.9000345901072293\n",
      "0.4799852425751706\n"
     ]
    }
   ],
   "execution_count": 67
  }
 ],
 "metadata": {
  "kernelspec": {
   "display_name": "Python 3",
   "language": "python",
   "name": "python3"
  },
  "language_info": {
   "codemirror_mode": {
    "name": "ipython",
    "version": 2
   },
   "file_extension": ".py",
   "mimetype": "text/x-python",
   "name": "python",
   "nbconvert_exporter": "python",
   "pygments_lexer": "ipython2",
   "version": "2.7.6"
  }
 },
 "nbformat": 4,
 "nbformat_minor": 5
}
